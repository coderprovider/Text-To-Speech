{
 "cells": [
  {
   "cell_type": "code",
   "execution_count": 23,
   "metadata": {},
   "outputs": [],
   "source": [
    "import os\n",
    "import shutil\n",
    "\n",
    "import pandas as pd\n",
    "from tqdm.auto import tqdm"
   ]
  },
  {
   "cell_type": "code",
   "execution_count": 28,
   "metadata": {},
   "outputs": [],
   "source": [
    "data_dir = \"/home/gokulkarthikk/datasets/googletts/{}/processed\" # update the path\n",
    "data_dir_new = \"/home/gokulkarthikk/datasets/googletts/all/processed\" # update the path"
   ]
  },
  {
   "cell_type": "code",
   "execution_count": 36,
   "metadata": {},
   "outputs": [
    {
     "name": "stdout",
     "output_type": "stream",
     "text": [
      "16856 400\n"
     ]
    }
   ],
   "source": [
    "langs = ['ta', 'te', 'kn', 'ml']\n",
    "train_df = pd.DataFrame()\n",
    "test_df = pd.DataFrame()\n",
    "for lang in langs:\n",
    "    data_dir_lang = data_dir.format(lang)\n",
    "    train_df = pd.concat([train_df, pd.read_csv(f'{data_dir_lang}/metadata_train.csv', sep='|', header=None)])\n",
    "    train_df = train_df.reset_index(drop=True)\n",
    "    test_df = pd.concat([test_df, pd.read_csv(f'{data_dir_lang}/metadata_test.csv', sep='|', header=None)])\n",
    "    test_df = test_df.reset_index(drop=True)\n",
    "    shutil.copytree(f'{data_dir_lang}/wavs-20k', f'{data_dir_new}/wavs-20k', dirs_exist_ok=True)\n",
    "print(len(train_df), len(test_df))\n",
    "train_df.to_csv(f'{data_dir_new}/metadata_train.csv', header=False, index=False, sep='|')\n",
    "test_df.to_csv(f'{data_dir_new}/metadata_test.csv', header=False, index=False, sep='|')"
   ]
  },
  {
   "cell_type": "code",
   "execution_count": null,
   "metadata": {},
   "outputs": [],
   "source": []
  }
 ],
 "metadata": {
  "kernelspec": {
   "display_name": "tts-env1",
   "language": "python",
   "name": "tts-env1"
  },
  "language_info": {
   "codemirror_mode": {
    "name": "ipython",
    "version": 3
   },
   "file_extension": ".py",
   "mimetype": "text/x-python",
   "name": "python",
   "nbconvert_exporter": "python",
   "pygments_lexer": "ipython3",
   "version": "3.10.4"
  },
  "orig_nbformat": 4
 },
 "nbformat": 4,
 "nbformat_minor": 2
}
