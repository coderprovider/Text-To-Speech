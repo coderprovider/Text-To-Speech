{
 "cells": [
  {
   "cell_type": "code",
   "execution_count": 51,
   "metadata": {},
   "outputs": [],
   "source": [
    "import os\n",
    "import shutil\n",
    "from multiprocessing import Pool\n",
    "\n",
    "import librosa\n",
    "import pandas as pd\n",
    "import soundfile as sf\n",
    "\n",
    "from sklearn.model_selection import train_test_split\n",
    "from tqdm.auto import tqdm\n",
    "\n",
    "tqdm.pandas()\n",
    "\n",
    "lang = 'kn'"
   ]
  },
  {
   "cell_type": "code",
   "execution_count": 52,
   "metadata": {},
   "outputs": [],
   "source": [
    "data_dir = f\"/home/gokulkarthikk/datasets/googletts/{lang}/raw\" # update the path\n",
    "data_dir_new = f\"/home/gokulkarthikk/datasets/googletts/{lang}/processed\" # update the path"
   ]
  },
  {
   "cell_type": "markdown",
   "metadata": {},
   "source": [
    "# Process to LJSpeech Format"
   ]
  },
  {
   "cell_type": "code",
   "execution_count": 53,
   "metadata": {},
   "outputs": [],
   "source": [
    "if not os.path.exists(data_dir_new):\n",
    "    os.makedirs(data_dir_new)"
   ]
  },
  {
   "cell_type": "code",
   "execution_count": 54,
   "metadata": {},
   "outputs": [
    {
     "data": {
      "text/plain": [
       "'/home/gokulkarthikk/datasets/googletts/kn/processed/wavs'"
      ]
     },
     "execution_count": 54,
     "metadata": {},
     "output_type": "execute_result"
    }
   ],
   "source": [
    "shutil.copytree(f'{data_dir}/male', f'{data_dir_new}/wavs')"
   ]
  },
  {
   "cell_type": "code",
   "execution_count": 55,
   "metadata": {},
   "outputs": [
    {
     "data": {
      "text/plain": [
       "'/home/gokulkarthikk/datasets/googletts/kn/processed/wavs'"
      ]
     },
     "execution_count": 55,
     "metadata": {},
     "output_type": "execute_result"
    }
   ],
   "source": [
    "shutil.copytree(f'{data_dir}/female', f'{data_dir_new}/wavs', dirs_exist_ok=True)"
   ]
  },
  {
   "cell_type": "code",
   "execution_count": 56,
   "metadata": {},
   "outputs": [],
   "source": [
    "os.remove(f'{data_dir_new}/wavs/LICENSE')\n",
    "os.remove(f'{data_dir_new}/wavs/line_index.tsv')"
   ]
  },
  {
   "cell_type": "code",
   "execution_count": 57,
   "metadata": {},
   "outputs": [
    {
     "name": "stdout",
     "output_type": "stream",
     "text": [
      "(2214, 4)\n"
     ]
    },
    {
     "data": {
      "text/html": [
       "<div>\n",
       "<style scoped>\n",
       "    .dataframe tbody tr th:only-of-type {\n",
       "        vertical-align: middle;\n",
       "    }\n",
       "\n",
       "    .dataframe tbody tr th {\n",
       "        vertical-align: top;\n",
       "    }\n",
       "\n",
       "    .dataframe thead th {\n",
       "        text-align: right;\n",
       "    }\n",
       "</style>\n",
       "<table border=\"1\" class=\"dataframe\">\n",
       "  <thead>\n",
       "    <tr style=\"text-align: right;\">\n",
       "      <th></th>\n",
       "      <th>id</th>\n",
       "      <th>text</th>\n",
       "      <th>speaker</th>\n",
       "      <th>gender</th>\n",
       "    </tr>\n",
       "  </thead>\n",
       "  <tbody>\n",
       "    <tr>\n",
       "      <th>0</th>\n",
       "      <td>knm_05927_01699170109</td>\n",
       "      <td>ಬಾಗಿಲಿಗೆ ಬಂದ ಜ್ಯೋತಿಯನ್ನು ಸ್ವಾಗತಿಸಿ</td>\n",
       "      <td>knm_05927</td>\n",
       "      <td>male</td>\n",
       "    </tr>\n",
       "    <tr>\n",
       "      <th>1</th>\n",
       "      <td>knm_08025_01815510700</td>\n",
       "      <td>ತೊಡೆಸಂದಿಯ ಅಂಡವಾಯುಗಳು ಪುರುಷರ ಮತ್ತು ಮಹಿಳೆಯರಲ್ಲಿನ...</td>\n",
       "      <td>knm_08025</td>\n",
       "      <td>male</td>\n",
       "    </tr>\n",
       "    <tr>\n",
       "      <th>2</th>\n",
       "      <td>knm_00574_01153125164</td>\n",
       "      <td>ನಿಲ್ದಾಣದ ಮೂಲಕ ಮುಕ್ತವಾಗಿ ತೇಲಾಡುತ್ತ ಮಲಗಬಹುದು</td>\n",
       "      <td>knm_00574</td>\n",
       "      <td>male</td>\n",
       "    </tr>\n",
       "    <tr>\n",
       "      <th>3</th>\n",
       "      <td>knm_01114_01558059071</td>\n",
       "      <td>ಅಂಡಮಾನಿನ ಪುಲಗ ಹಾಗೂ ಪ್ರಾಚೀನ ಭಾರತದ ವರುಣ ಅಂತರಿಕ್ಷ...</td>\n",
       "      <td>knm_01114</td>\n",
       "      <td>male</td>\n",
       "    </tr>\n",
       "    <tr>\n",
       "      <th>4</th>\n",
       "      <td>knm_00271_00413960012</td>\n",
       "      <td>ಈ ಸಮ್ಮೇಳನ ಕೇಂದ್ರ ಬ್ಯಾಂಕುಗಳೊಳಗೆ ಬೆಳೆಯಬೇಕಾದ ಸಹಕಾ...</td>\n",
       "      <td>knm_00271</td>\n",
       "      <td>male</td>\n",
       "    </tr>\n",
       "  </tbody>\n",
       "</table>\n",
       "</div>"
      ],
      "text/plain": [
       "                      id                                               text  \\\n",
       "0  knm_05927_01699170109                 ಬಾಗಿಲಿಗೆ ಬಂದ ಜ್ಯೋತಿಯನ್ನು ಸ್ವಾಗತಿಸಿ   \n",
       "1  knm_08025_01815510700  ತೊಡೆಸಂದಿಯ ಅಂಡವಾಯುಗಳು ಪುರುಷರ ಮತ್ತು ಮಹಿಳೆಯರಲ್ಲಿನ...   \n",
       "2  knm_00574_01153125164         ನಿಲ್ದಾಣದ ಮೂಲಕ ಮುಕ್ತವಾಗಿ ತೇಲಾಡುತ್ತ ಮಲಗಬಹುದು   \n",
       "3  knm_01114_01558059071  ಅಂಡಮಾನಿನ ಪುಲಗ ಹಾಗೂ ಪ್ರಾಚೀನ ಭಾರತದ ವರುಣ ಅಂತರಿಕ್ಷ...   \n",
       "4  knm_00271_00413960012  ಈ ಸಮ್ಮೇಳನ ಕೇಂದ್ರ ಬ್ಯಾಂಕುಗಳೊಳಗೆ ಬೆಳೆಯಬೇಕಾದ ಸಹಕಾ...   \n",
       "\n",
       "     speaker gender  \n",
       "0  knm_05927   male  \n",
       "1  knm_08025   male  \n",
       "2  knm_00574   male  \n",
       "3  knm_01114   male  \n",
       "4  knm_00271   male  "
      ]
     },
     "execution_count": 57,
     "metadata": {},
     "output_type": "execute_result"
    }
   ],
   "source": [
    "metadata_male_fp = f\"{data_dir}/male/line_index.tsv\"\n",
    "metadata_male = pd.read_csv(metadata_male_fp, sep='\\t', header=None, names=['id', 'text'])\n",
    "metadata_male['speaker'] = metadata_male['id'].str.rsplit('_', 1).str[0]\n",
    "metadata_male['gender'] = 'male'\n",
    "print(metadata_male.shape)\n",
    "metadata_male.head()"
   ]
  },
  {
   "cell_type": "code",
   "execution_count": 58,
   "metadata": {},
   "outputs": [
    {
     "name": "stdout",
     "output_type": "stream",
     "text": [
      "(2186, 4)\n"
     ]
    },
    {
     "data": {
      "text/html": [
       "<div>\n",
       "<style scoped>\n",
       "    .dataframe tbody tr th:only-of-type {\n",
       "        vertical-align: middle;\n",
       "    }\n",
       "\n",
       "    .dataframe tbody tr th {\n",
       "        vertical-align: top;\n",
       "    }\n",
       "\n",
       "    .dataframe thead th {\n",
       "        text-align: right;\n",
       "    }\n",
       "</style>\n",
       "<table border=\"1\" class=\"dataframe\">\n",
       "  <thead>\n",
       "    <tr style=\"text-align: right;\">\n",
       "      <th></th>\n",
       "      <th>id</th>\n",
       "      <th>text</th>\n",
       "      <th>speaker</th>\n",
       "      <th>gender</th>\n",
       "    </tr>\n",
       "  </thead>\n",
       "  <tbody>\n",
       "    <tr>\n",
       "      <th>0</th>\n",
       "      <td>knf_00557_01097230618</td>\n",
       "      <td>ಪರ್ವತಗಳು ವಾಯುವಿಗನುಗುಣವಾಗಿ ಕಂಪಿಸುವುವು.</td>\n",
       "      <td>knf_00557</td>\n",
       "      <td>female</td>\n",
       "    </tr>\n",
       "    <tr>\n",
       "      <th>1</th>\n",
       "      <td>knf_03271_01629528503</td>\n",
       "      <td>ಚಿತ್ರವನ್ನು ಕೆಲವೊಮ್ಮೆ ವಾರ್ನಿಷ್ ಅಥವಾ ಕೆಲವು ಇತರ ಮ...</td>\n",
       "      <td>knf_03271</td>\n",
       "      <td>female</td>\n",
       "    </tr>\n",
       "    <tr>\n",
       "      <th>2</th>\n",
       "      <td>knf_03574_00145342156</td>\n",
       "      <td>ಹಚ್ಚುವ ಮೊದಲು ಲೋಹಗಳ ಮೈಯನ್ನು ಉಜ್ಜಿ ಒರಟು ಮಾಡುವುದು...</td>\n",
       "      <td>knf_03574</td>\n",
       "      <td>female</td>\n",
       "    </tr>\n",
       "    <tr>\n",
       "      <th>3</th>\n",
       "      <td>knf_00557_01945435360</td>\n",
       "      <td>ಹೂಗೊಂಚಲಿನಲ್ಲಿ ಹೆಣ್ಣು ಹೂಗಳು ಮಾತ್ರವಿದೆ</td>\n",
       "      <td>knf_00557</td>\n",
       "      <td>female</td>\n",
       "    </tr>\n",
       "    <tr>\n",
       "      <th>4</th>\n",
       "      <td>knf_02173_02031667415</td>\n",
       "      <td>ನಾಲ್ನೂರು ಗಜಗಳಲ್ಲಿ</td>\n",
       "      <td>knf_02173</td>\n",
       "      <td>female</td>\n",
       "    </tr>\n",
       "  </tbody>\n",
       "</table>\n",
       "</div>"
      ],
      "text/plain": [
       "                      id                                               text  \\\n",
       "0  knf_00557_01097230618              ಪರ್ವತಗಳು ವಾಯುವಿಗನುಗುಣವಾಗಿ ಕಂಪಿಸುವುವು.   \n",
       "1  knf_03271_01629528503  ಚಿತ್ರವನ್ನು ಕೆಲವೊಮ್ಮೆ ವಾರ್ನಿಷ್ ಅಥವಾ ಕೆಲವು ಇತರ ಮ...   \n",
       "2  knf_03574_00145342156  ಹಚ್ಚುವ ಮೊದಲು ಲೋಹಗಳ ಮೈಯನ್ನು ಉಜ್ಜಿ ಒರಟು ಮಾಡುವುದು...   \n",
       "3  knf_00557_01945435360               ಹೂಗೊಂಚಲಿನಲ್ಲಿ ಹೆಣ್ಣು ಹೂಗಳು ಮಾತ್ರವಿದೆ   \n",
       "4  knf_02173_02031667415                                  ನಾಲ್ನೂರು ಗಜಗಳಲ್ಲಿ   \n",
       "\n",
       "     speaker  gender  \n",
       "0  knf_00557  female  \n",
       "1  knf_03271  female  \n",
       "2  knf_03574  female  \n",
       "3  knf_00557  female  \n",
       "4  knf_02173  female  "
      ]
     },
     "execution_count": 58,
     "metadata": {},
     "output_type": "execute_result"
    }
   ],
   "source": [
    "metadata_female_fp = f\"{data_dir}/female/line_index.tsv\"\n",
    "metadata_female = pd.read_csv(metadata_female_fp, sep='\\t', header=None, names=['id', 'text'])\n",
    "metadata_female['speaker'] = metadata_female['id'].str.rsplit('_', 1).str[0]\n",
    "metadata_female['gender'] = 'female'\n",
    "print(metadata_female.shape)\n",
    "metadata_female.head()"
   ]
  },
  {
   "cell_type": "code",
   "execution_count": 59,
   "metadata": {},
   "outputs": [
    {
     "data": {
      "text/html": [
       "<div>\n",
       "<style scoped>\n",
       "    .dataframe tbody tr th:only-of-type {\n",
       "        vertical-align: middle;\n",
       "    }\n",
       "\n",
       "    .dataframe tbody tr th {\n",
       "        vertical-align: top;\n",
       "    }\n",
       "\n",
       "    .dataframe thead th {\n",
       "        text-align: right;\n",
       "    }\n",
       "</style>\n",
       "<table border=\"1\" class=\"dataframe\">\n",
       "  <thead>\n",
       "    <tr style=\"text-align: right;\">\n",
       "      <th></th>\n",
       "      <th>id</th>\n",
       "      <th>text</th>\n",
       "      <th>speaker</th>\n",
       "      <th>gender</th>\n",
       "    </tr>\n",
       "  </thead>\n",
       "  <tbody>\n",
       "    <tr>\n",
       "      <th>0</th>\n",
       "      <td>knm_05927_01699170109</td>\n",
       "      <td>ಬಾಗಿಲಿಗೆ ಬಂದ ಜ್ಯೋತಿಯನ್ನು ಸ್ವಾಗತಿಸಿ</td>\n",
       "      <td>knm_05927</td>\n",
       "      <td>male</td>\n",
       "    </tr>\n",
       "    <tr>\n",
       "      <th>1</th>\n",
       "      <td>knm_08025_01815510700</td>\n",
       "      <td>ತೊಡೆಸಂದಿಯ ಅಂಡವಾಯುಗಳು ಪುರುಷರ ಮತ್ತು ಮಹಿಳೆಯರಲ್ಲಿನ...</td>\n",
       "      <td>knm_08025</td>\n",
       "      <td>male</td>\n",
       "    </tr>\n",
       "    <tr>\n",
       "      <th>2</th>\n",
       "      <td>knm_00574_01153125164</td>\n",
       "      <td>ನಿಲ್ದಾಣದ ಮೂಲಕ ಮುಕ್ತವಾಗಿ ತೇಲಾಡುತ್ತ ಮಲಗಬಹುದು</td>\n",
       "      <td>knm_00574</td>\n",
       "      <td>male</td>\n",
       "    </tr>\n",
       "    <tr>\n",
       "      <th>3</th>\n",
       "      <td>knm_01114_01558059071</td>\n",
       "      <td>ಅಂಡಮಾನಿನ ಪುಲಗ ಹಾಗೂ ಪ್ರಾಚೀನ ಭಾರತದ ವರುಣ ಅಂತರಿಕ್ಷ...</td>\n",
       "      <td>knm_01114</td>\n",
       "      <td>male</td>\n",
       "    </tr>\n",
       "    <tr>\n",
       "      <th>4</th>\n",
       "      <td>knm_00271_00413960012</td>\n",
       "      <td>ಈ ಸಮ್ಮೇಳನ ಕೇಂದ್ರ ಬ್ಯಾಂಕುಗಳೊಳಗೆ ಬೆಳೆಯಬೇಕಾದ ಸಹಕಾ...</td>\n",
       "      <td>knm_00271</td>\n",
       "      <td>male</td>\n",
       "    </tr>\n",
       "    <tr>\n",
       "      <th>...</th>\n",
       "      <td>...</td>\n",
       "      <td>...</td>\n",
       "      <td>...</td>\n",
       "      <td>...</td>\n",
       "    </tr>\n",
       "    <tr>\n",
       "      <th>4395</th>\n",
       "      <td>knf_01493_00549895262</td>\n",
       "      <td>ಮುಂದಿನ ಬೇಸಗೆಯಲ್ಲಿ ಫಸಲು ಬರುತ್ತದೆ</td>\n",
       "      <td>knf_01493</td>\n",
       "      <td>female</td>\n",
       "    </tr>\n",
       "    <tr>\n",
       "      <th>4396</th>\n",
       "      <td>knf_01796_01447306308</td>\n",
       "      <td>ಒಂದು ಪೋಷಕವಸ್ತುವಿನ ಕೊರತೆಯಿದ್ದಾಗ</td>\n",
       "      <td>knf_01796</td>\n",
       "      <td>female</td>\n",
       "    </tr>\n",
       "    <tr>\n",
       "      <th>4397</th>\n",
       "      <td>knf_08476_00629542551</td>\n",
       "      <td>ಆದರೆ ಅಂತರ್ವ್ಯಾಪ್ತಿಗೆ ಮತ್ತೊಂದು ಅರ್ಥವೂ ಉಂಟು</td>\n",
       "      <td>knf_08476</td>\n",
       "      <td>female</td>\n",
       "    </tr>\n",
       "    <tr>\n",
       "      <th>4398</th>\n",
       "      <td>knf_09696_00446271427</td>\n",
       "      <td>ಆಯುರ್ವೇದವನ್ನು ಪ್ರಜಾಪತಿ ದಕ್ಷನಿಗೆ ಬ್ರಹ್ಮ ಉಪದೇಶಿಸಿದ.</td>\n",
       "      <td>knf_09696</td>\n",
       "      <td>female</td>\n",
       "    </tr>\n",
       "    <tr>\n",
       "      <th>4399</th>\n",
       "      <td>knf_07901_01957084362</td>\n",
       "      <td>ಈ ಪರ್ವತ ಸಾಲಿನಲ್ಲಿ ಜಲಜಶಿಲೆಗಳು ಹೆಚ್ಚು ಮೈದಳೆದಿವೆ.</td>\n",
       "      <td>knf_07901</td>\n",
       "      <td>female</td>\n",
       "    </tr>\n",
       "  </tbody>\n",
       "</table>\n",
       "<p>4400 rows × 4 columns</p>\n",
       "</div>"
      ],
      "text/plain": [
       "                         id  \\\n",
       "0     knm_05927_01699170109   \n",
       "1     knm_08025_01815510700   \n",
       "2     knm_00574_01153125164   \n",
       "3     knm_01114_01558059071   \n",
       "4     knm_00271_00413960012   \n",
       "...                     ...   \n",
       "4395  knf_01493_00549895262   \n",
       "4396  knf_01796_01447306308   \n",
       "4397  knf_08476_00629542551   \n",
       "4398  knf_09696_00446271427   \n",
       "4399  knf_07901_01957084362   \n",
       "\n",
       "                                                   text    speaker  gender  \n",
       "0                    ಬಾಗಿಲಿಗೆ ಬಂದ ಜ್ಯೋತಿಯನ್ನು ಸ್ವಾಗತಿಸಿ  knm_05927    male  \n",
       "1     ತೊಡೆಸಂದಿಯ ಅಂಡವಾಯುಗಳು ಪುರುಷರ ಮತ್ತು ಮಹಿಳೆಯರಲ್ಲಿನ...  knm_08025    male  \n",
       "2            ನಿಲ್ದಾಣದ ಮೂಲಕ ಮುಕ್ತವಾಗಿ ತೇಲಾಡುತ್ತ ಮಲಗಬಹುದು  knm_00574    male  \n",
       "3     ಅಂಡಮಾನಿನ ಪುಲಗ ಹಾಗೂ ಪ್ರಾಚೀನ ಭಾರತದ ವರುಣ ಅಂತರಿಕ್ಷ...  knm_01114    male  \n",
       "4     ಈ ಸಮ್ಮೇಳನ ಕೇಂದ್ರ ಬ್ಯಾಂಕುಗಳೊಳಗೆ ಬೆಳೆಯಬೇಕಾದ ಸಹಕಾ...  knm_00271    male  \n",
       "...                                                 ...        ...     ...  \n",
       "4395                    ಮುಂದಿನ ಬೇಸಗೆಯಲ್ಲಿ ಫಸಲು ಬರುತ್ತದೆ  knf_01493  female  \n",
       "4396                     ಒಂದು ಪೋಷಕವಸ್ತುವಿನ ಕೊರತೆಯಿದ್ದಾಗ  knf_01796  female  \n",
       "4397          ಆದರೆ ಅಂತರ್ವ್ಯಾಪ್ತಿಗೆ ಮತ್ತೊಂದು ಅರ್ಥವೂ ಉಂಟು  knf_08476  female  \n",
       "4398  ಆಯುರ್ವೇದವನ್ನು ಪ್ರಜಾಪತಿ ದಕ್ಷನಿಗೆ ಬ್ರಹ್ಮ ಉಪದೇಶಿಸಿದ.  knf_09696  female  \n",
       "4399     ಈ ಪರ್ವತ ಸಾಲಿನಲ್ಲಿ ಜಲಜಶಿಲೆಗಳು ಹೆಚ್ಚು ಮೈದಳೆದಿವೆ.  knf_07901  female  \n",
       "\n",
       "[4400 rows x 4 columns]"
      ]
     },
     "execution_count": 59,
     "metadata": {},
     "output_type": "execute_result"
    }
   ],
   "source": [
    "metadata = pd.concat([metadata_male, metadata_female]).reset_index(drop=True)\n",
    "metadata"
   ]
  },
  {
   "cell_type": "code",
   "execution_count": 60,
   "metadata": {},
   "outputs": [],
   "source": [
    "metadata.to_csv(f'{data_dir_new}/metadata.csv', sep='|', index=False, header=False)"
   ]
  },
  {
   "cell_type": "markdown",
   "metadata": {},
   "source": [
    "# Resampling"
   ]
  },
  {
   "cell_type": "code",
   "execution_count": 61,
   "metadata": {},
   "outputs": [],
   "source": [
    "if not os.path.exists(f'{data_dir_new}/wavs-20k'):\n",
    "    os.makedirs(f'{data_dir_new}/wavs-20k')"
   ]
  },
  {
   "cell_type": "code",
   "execution_count": 62,
   "metadata": {},
   "outputs": [],
   "source": [
    "def resample_file(func_args):\n",
    "    fp_src, fp_dst, output_sr = func_args\n",
    "    y, sr = librosa.load(fp_src, sr=output_sr)\n",
    "    sf.write(fp_dst, y, sr)"
   ]
  },
  {
   "cell_type": "code",
   "execution_count": 63,
   "metadata": {},
   "outputs": [
    {
     "data": {
      "application/vnd.jupyter.widget-view+json": {
       "model_id": "8a95111a55a0489abb365c951002d94b",
       "version_major": 2,
       "version_minor": 0
      },
      "text/plain": [
       "  0%|          | 0/4400 [00:00<?, ?it/s]"
      ]
     },
     "metadata": {},
     "output_type": "display_data"
    },
    {
     "data": {
      "application/vnd.jupyter.widget-view+json": {
       "model_id": "37867e920d8848ae8f6545bc0da3533c",
       "version_major": 2,
       "version_minor": 0
      },
      "text/plain": [
       "  0%|          | 0/4400 [00:00<?, ?it/s]"
      ]
     },
     "metadata": {},
     "output_type": "display_data"
    }
   ],
   "source": [
    "fps_src = [f'{data_dir_new}/wavs/{fn}' for fn in tqdm(os.listdir(f'{data_dir_new}/wavs'))]\n",
    "fps_dst = [f'{data_dir_new}/wavs-20k/{fn}' for fn in tqdm(os.listdir(f'{data_dir_new}/wavs'))]\n",
    "srs = [22050] * len(fps_src)"
   ]
  },
  {
   "cell_type": "code",
   "execution_count": 64,
   "metadata": {},
   "outputs": [
    {
     "data": {
      "application/vnd.jupyter.widget-view+json": {
       "model_id": "dc1e8e3d224e4ac5b8d541d1a3f0dcc1",
       "version_major": 2,
       "version_minor": 0
      },
      "text/plain": [
       "  0%|          | 0/4400 [00:00<?, ?it/s]"
      ]
     },
     "metadata": {},
     "output_type": "display_data"
    }
   ],
   "source": [
    "audio_files = list(zip(fps_src, fps_dst, srs))\n",
    "with Pool(processes=16) as p:\n",
    "    with tqdm(total=len(fps_src)) as pbar:\n",
    "        for i, _ in enumerate(p.imap_unordered(resample_file, audio_files)):\n",
    "            pbar.update()"
   ]
  },
  {
   "cell_type": "code",
   "execution_count": 65,
   "metadata": {},
   "outputs": [],
   "source": [
    "# audio_files = list(zip(fps_src, fps_dst, srs))\n",
    "# for audio_file in tqdm(audio_files):\n",
    "#     resample_file(audio_file)"
   ]
  },
  {
   "cell_type": "markdown",
   "metadata": {},
   "source": [
    "# Filter data"
   ]
  },
  {
   "cell_type": "code",
   "execution_count": 66,
   "metadata": {},
   "outputs": [
    {
     "data": {
      "text/html": [
       "<div>\n",
       "<style scoped>\n",
       "    .dataframe tbody tr th:only-of-type {\n",
       "        vertical-align: middle;\n",
       "    }\n",
       "\n",
       "    .dataframe tbody tr th {\n",
       "        vertical-align: top;\n",
       "    }\n",
       "\n",
       "    .dataframe thead th {\n",
       "        text-align: right;\n",
       "    }\n",
       "</style>\n",
       "<table border=\"1\" class=\"dataframe\">\n",
       "  <thead>\n",
       "    <tr style=\"text-align: right;\">\n",
       "      <th></th>\n",
       "      <th>id</th>\n",
       "      <th>text</th>\n",
       "      <th>speaker</th>\n",
       "      <th>gender</th>\n",
       "    </tr>\n",
       "  </thead>\n",
       "  <tbody>\n",
       "    <tr>\n",
       "      <th>0</th>\n",
       "      <td>knm_05927_01699170109</td>\n",
       "      <td>ಬಾಗಿಲಿಗೆ ಬಂದ ಜ್ಯೋತಿಯನ್ನು ಸ್ವಾಗತಿಸಿ</td>\n",
       "      <td>knm_05927</td>\n",
       "      <td>male</td>\n",
       "    </tr>\n",
       "    <tr>\n",
       "      <th>1</th>\n",
       "      <td>knm_08025_01815510700</td>\n",
       "      <td>ತೊಡೆಸಂದಿಯ ಅಂಡವಾಯುಗಳು ಪುರುಷರ ಮತ್ತು ಮಹಿಳೆಯರಲ್ಲಿನ...</td>\n",
       "      <td>knm_08025</td>\n",
       "      <td>male</td>\n",
       "    </tr>\n",
       "    <tr>\n",
       "      <th>2</th>\n",
       "      <td>knm_00574_01153125164</td>\n",
       "      <td>ನಿಲ್ದಾಣದ ಮೂಲಕ ಮುಕ್ತವಾಗಿ ತೇಲಾಡುತ್ತ ಮಲಗಬಹುದು</td>\n",
       "      <td>knm_00574</td>\n",
       "      <td>male</td>\n",
       "    </tr>\n",
       "    <tr>\n",
       "      <th>3</th>\n",
       "      <td>knm_01114_01558059071</td>\n",
       "      <td>ಅಂಡಮಾನಿನ ಪುಲಗ ಹಾಗೂ ಪ್ರಾಚೀನ ಭಾರತದ ವರುಣ ಅಂತರಿಕ್ಷ...</td>\n",
       "      <td>knm_01114</td>\n",
       "      <td>male</td>\n",
       "    </tr>\n",
       "    <tr>\n",
       "      <th>4</th>\n",
       "      <td>knm_00271_00413960012</td>\n",
       "      <td>ಈ ಸಮ್ಮೇಳನ ಕೇಂದ್ರ ಬ್ಯಾಂಕುಗಳೊಳಗೆ ಬೆಳೆಯಬೇಕಾದ ಸಹಕಾ...</td>\n",
       "      <td>knm_00271</td>\n",
       "      <td>male</td>\n",
       "    </tr>\n",
       "  </tbody>\n",
       "</table>\n",
       "</div>"
      ],
      "text/plain": [
       "                      id                                               text  \\\n",
       "0  knm_05927_01699170109                 ಬಾಗಿಲಿಗೆ ಬಂದ ಜ್ಯೋತಿಯನ್ನು ಸ್ವಾಗತಿಸಿ   \n",
       "1  knm_08025_01815510700  ತೊಡೆಸಂದಿಯ ಅಂಡವಾಯುಗಳು ಪುರುಷರ ಮತ್ತು ಮಹಿಳೆಯರಲ್ಲಿನ...   \n",
       "2  knm_00574_01153125164         ನಿಲ್ದಾಣದ ಮೂಲಕ ಮುಕ್ತವಾಗಿ ತೇಲಾಡುತ್ತ ಮಲಗಬಹುದು   \n",
       "3  knm_01114_01558059071  ಅಂಡಮಾನಿನ ಪುಲಗ ಹಾಗೂ ಪ್ರಾಚೀನ ಭಾರತದ ವರುಣ ಅಂತರಿಕ್ಷ...   \n",
       "4  knm_00271_00413960012  ಈ ಸಮ್ಮೇಳನ ಕೇಂದ್ರ ಬ್ಯಾಂಕುಗಳೊಳಗೆ ಬೆಳೆಯಬೇಕಾದ ಸಹಕಾ...   \n",
       "\n",
       "     speaker gender  \n",
       "0  knm_05927   male  \n",
       "1  knm_08025   male  \n",
       "2  knm_00574   male  \n",
       "3  knm_01114   male  \n",
       "4  knm_00271   male  "
      ]
     },
     "execution_count": 66,
     "metadata": {},
     "output_type": "execute_result"
    }
   ],
   "source": [
    "metadata = pd.read_csv(f'{data_dir_new}/metadata.csv', sep='|', names=['id', 'text', 'speaker', 'gender'])\n",
    "metadata.head()"
   ]
  },
  {
   "cell_type": "code",
   "execution_count": 67,
   "metadata": {},
   "outputs": [
    {
     "name": "stdout",
     "output_type": "stream",
     "text": [
      "4400\n",
      "4400\n"
     ]
    },
    {
     "data": {
      "text/html": [
       "<div>\n",
       "<style scoped>\n",
       "    .dataframe tbody tr th:only-of-type {\n",
       "        vertical-align: middle;\n",
       "    }\n",
       "\n",
       "    .dataframe tbody tr th {\n",
       "        vertical-align: top;\n",
       "    }\n",
       "\n",
       "    .dataframe thead th {\n",
       "        text-align: right;\n",
       "    }\n",
       "</style>\n",
       "<table border=\"1\" class=\"dataframe\">\n",
       "  <thead>\n",
       "    <tr style=\"text-align: right;\">\n",
       "      <th></th>\n",
       "      <th>id</th>\n",
       "      <th>text</th>\n",
       "      <th>speaker</th>\n",
       "      <th>gender</th>\n",
       "      <th>text_length</th>\n",
       "    </tr>\n",
       "  </thead>\n",
       "  <tbody>\n",
       "    <tr>\n",
       "      <th>0</th>\n",
       "      <td>knm_05927_01699170109</td>\n",
       "      <td>ಬಾಗಿಲಿಗೆ ಬಂದ ಜ್ಯೋತಿಯನ್ನು ಸ್ವಾಗತಿಸಿ</td>\n",
       "      <td>knm_05927</td>\n",
       "      <td>male</td>\n",
       "      <td>34</td>\n",
       "    </tr>\n",
       "    <tr>\n",
       "      <th>1</th>\n",
       "      <td>knm_08025_01815510700</td>\n",
       "      <td>ತೊಡೆಸಂದಿಯ ಅಂಡವಾಯುಗಳು ಪುರುಷರ ಮತ್ತು ಮಹಿಳೆಯರಲ್ಲಿನ...</td>\n",
       "      <td>knm_08025</td>\n",
       "      <td>male</td>\n",
       "      <td>87</td>\n",
       "    </tr>\n",
       "    <tr>\n",
       "      <th>2</th>\n",
       "      <td>knm_00574_01153125164</td>\n",
       "      <td>ನಿಲ್ದಾಣದ ಮೂಲಕ ಮುಕ್ತವಾಗಿ ತೇಲಾಡುತ್ತ ಮಲಗಬಹುದು</td>\n",
       "      <td>knm_00574</td>\n",
       "      <td>male</td>\n",
       "      <td>42</td>\n",
       "    </tr>\n",
       "    <tr>\n",
       "      <th>3</th>\n",
       "      <td>knm_01114_01558059071</td>\n",
       "      <td>ಅಂಡಮಾನಿನ ಪುಲಗ ಹಾಗೂ ಪ್ರಾಚೀನ ಭಾರತದ ವರುಣ ಅಂತರಿಕ್ಷ...</td>\n",
       "      <td>knm_01114</td>\n",
       "      <td>male</td>\n",
       "      <td>75</td>\n",
       "    </tr>\n",
       "    <tr>\n",
       "      <th>4</th>\n",
       "      <td>knm_00271_00413960012</td>\n",
       "      <td>ಈ ಸಮ್ಮೇಳನ ಕೇಂದ್ರ ಬ್ಯಾಂಕುಗಳೊಳಗೆ ಬೆಳೆಯಬೇಕಾದ ಸಹಕಾ...</td>\n",
       "      <td>knm_00271</td>\n",
       "      <td>male</td>\n",
       "      <td>75</td>\n",
       "    </tr>\n",
       "  </tbody>\n",
       "</table>\n",
       "</div>"
      ],
      "text/plain": [
       "                      id                                               text  \\\n",
       "0  knm_05927_01699170109                 ಬಾಗಿಲಿಗೆ ಬಂದ ಜ್ಯೋತಿಯನ್ನು ಸ್ವಾಗತಿಸಿ   \n",
       "1  knm_08025_01815510700  ತೊಡೆಸಂದಿಯ ಅಂಡವಾಯುಗಳು ಪುರುಷರ ಮತ್ತು ಮಹಿಳೆಯರಲ್ಲಿನ...   \n",
       "2  knm_00574_01153125164         ನಿಲ್ದಾಣದ ಮೂಲಕ ಮುಕ್ತವಾಗಿ ತೇಲಾಡುತ್ತ ಮಲಗಬಹುದು   \n",
       "3  knm_01114_01558059071  ಅಂಡಮಾನಿನ ಪುಲಗ ಹಾಗೂ ಪ್ರಾಚೀನ ಭಾರತದ ವರುಣ ಅಂತರಿಕ್ಷ...   \n",
       "4  knm_00271_00413960012  ಈ ಸಮ್ಮೇಳನ ಕೇಂದ್ರ ಬ್ಯಾಂಕುಗಳೊಳಗೆ ಬೆಳೆಯಬೇಕಾದ ಸಹಕಾ...   \n",
       "\n",
       "     speaker gender  text_length  \n",
       "0  knm_05927   male           34  \n",
       "1  knm_08025   male           87  \n",
       "2  knm_00574   male           42  \n",
       "3  knm_01114   male           75  \n",
       "4  knm_00271   male           75  "
      ]
     },
     "execution_count": 67,
     "metadata": {},
     "output_type": "execute_result"
    }
   ],
   "source": [
    "metadata['text_length'] = metadata['text'].str.len()\n",
    "print(len(metadata))\n",
    "metadata = metadata[~metadata['text_length'].isna()]\n",
    "metadata['text_length'] = metadata['text_length'].astype(int)\n",
    "print(len(metadata))\n",
    "metadata.head()"
   ]
  },
  {
   "cell_type": "code",
   "execution_count": 68,
   "metadata": {},
   "outputs": [],
   "source": [
    "def get_duration(id_):\n",
    "    fp = f'{data_dir_new}/wavs-20k/{id_}.wav'\n",
    "    y, sr = librosa.load(fp)\n",
    "    duration = librosa.get_duration(y=y, sr=sr)\n",
    "    return duration"
   ]
  },
  {
   "cell_type": "code",
   "execution_count": 69,
   "metadata": {},
   "outputs": [
    {
     "data": {
      "application/vnd.jupyter.widget-view+json": {
       "model_id": "59a5e18dc7184b0b8c23e636b7f97382",
       "version_major": 2,
       "version_minor": 0
      },
      "text/plain": [
       "  0%|          | 0/4400 [00:00<?, ?it/s]"
      ]
     },
     "metadata": {},
     "output_type": "display_data"
    },
    {
     "name": "stdout",
     "output_type": "stream",
     "text": [
      "4400\n",
      "4400\n"
     ]
    },
    {
     "data": {
      "text/html": [
       "<div>\n",
       "<style scoped>\n",
       "    .dataframe tbody tr th:only-of-type {\n",
       "        vertical-align: middle;\n",
       "    }\n",
       "\n",
       "    .dataframe tbody tr th {\n",
       "        vertical-align: top;\n",
       "    }\n",
       "\n",
       "    .dataframe thead th {\n",
       "        text-align: right;\n",
       "    }\n",
       "</style>\n",
       "<table border=\"1\" class=\"dataframe\">\n",
       "  <thead>\n",
       "    <tr style=\"text-align: right;\">\n",
       "      <th></th>\n",
       "      <th>id</th>\n",
       "      <th>text</th>\n",
       "      <th>speaker</th>\n",
       "      <th>gender</th>\n",
       "      <th>text_length</th>\n",
       "      <th>audio_duration</th>\n",
       "    </tr>\n",
       "  </thead>\n",
       "  <tbody>\n",
       "    <tr>\n",
       "      <th>0</th>\n",
       "      <td>knm_05927_01699170109</td>\n",
       "      <td>ಬಾಗಿಲಿಗೆ ಬಂದ ಜ್ಯೋತಿಯನ್ನು ಸ್ವಾಗತಿಸಿ</td>\n",
       "      <td>knm_05927</td>\n",
       "      <td>male</td>\n",
       "      <td>34</td>\n",
       "      <td>3.925351</td>\n",
       "    </tr>\n",
       "    <tr>\n",
       "      <th>1</th>\n",
       "      <td>knm_08025_01815510700</td>\n",
       "      <td>ತೊಡೆಸಂದಿಯ ಅಂಡವಾಯುಗಳು ಪುರುಷರ ಮತ್ತು ಮಹಿಳೆಯರಲ್ಲಿನ...</td>\n",
       "      <td>knm_08025</td>\n",
       "      <td>male</td>\n",
       "      <td>87</td>\n",
       "      <td>8.960000</td>\n",
       "    </tr>\n",
       "    <tr>\n",
       "      <th>2</th>\n",
       "      <td>knm_00574_01153125164</td>\n",
       "      <td>ನಿಲ್ದಾಣದ ಮೂಲಕ ಮುಕ್ತವಾಗಿ ತೇಲಾಡುತ್ತ ಮಲಗಬಹುದು</td>\n",
       "      <td>knm_00574</td>\n",
       "      <td>male</td>\n",
       "      <td>42</td>\n",
       "      <td>4.608027</td>\n",
       "    </tr>\n",
       "    <tr>\n",
       "      <th>3</th>\n",
       "      <td>knm_01114_01558059071</td>\n",
       "      <td>ಅಂಡಮಾನಿನ ಪುಲಗ ಹಾಗೂ ಪ್ರಾಚೀನ ಭಾರತದ ವರುಣ ಅಂತರಿಕ್ಷ...</td>\n",
       "      <td>knm_01114</td>\n",
       "      <td>male</td>\n",
       "      <td>75</td>\n",
       "      <td>8.874694</td>\n",
       "    </tr>\n",
       "    <tr>\n",
       "      <th>4</th>\n",
       "      <td>knm_00271_00413960012</td>\n",
       "      <td>ಈ ಸಮ್ಮೇಳನ ಕೇಂದ್ರ ಬ್ಯಾಂಕುಗಳೊಳಗೆ ಬೆಳೆಯಬೇಕಾದ ಸಹಕಾ...</td>\n",
       "      <td>knm_00271</td>\n",
       "      <td>male</td>\n",
       "      <td>75</td>\n",
       "      <td>6.997370</td>\n",
       "    </tr>\n",
       "  </tbody>\n",
       "</table>\n",
       "</div>"
      ],
      "text/plain": [
       "                      id                                               text  \\\n",
       "0  knm_05927_01699170109                 ಬಾಗಿಲಿಗೆ ಬಂದ ಜ್ಯೋತಿಯನ್ನು ಸ್ವಾಗತಿಸಿ   \n",
       "1  knm_08025_01815510700  ತೊಡೆಸಂದಿಯ ಅಂಡವಾಯುಗಳು ಪುರುಷರ ಮತ್ತು ಮಹಿಳೆಯರಲ್ಲಿನ...   \n",
       "2  knm_00574_01153125164         ನಿಲ್ದಾಣದ ಮೂಲಕ ಮುಕ್ತವಾಗಿ ತೇಲಾಡುತ್ತ ಮಲಗಬಹುದು   \n",
       "3  knm_01114_01558059071  ಅಂಡಮಾನಿನ ಪುಲಗ ಹಾಗೂ ಪ್ರಾಚೀನ ಭಾರತದ ವರುಣ ಅಂತರಿಕ್ಷ...   \n",
       "4  knm_00271_00413960012  ಈ ಸಮ್ಮೇಳನ ಕೇಂದ್ರ ಬ್ಯಾಂಕುಗಳೊಳಗೆ ಬೆಳೆಯಬೇಕಾದ ಸಹಕಾ...   \n",
       "\n",
       "     speaker gender  text_length  audio_duration  \n",
       "0  knm_05927   male           34        3.925351  \n",
       "1  knm_08025   male           87        8.960000  \n",
       "2  knm_00574   male           42        4.608027  \n",
       "3  knm_01114   male           75        8.874694  \n",
       "4  knm_00271   male           75        6.997370  "
      ]
     },
     "execution_count": 69,
     "metadata": {},
     "output_type": "execute_result"
    }
   ],
   "source": [
    "metadata['audio_duration'] = metadata['id'].progress_apply(get_duration)\n",
    "print(len(metadata))\n",
    "metadata = metadata[metadata['audio_duration']>0]\n",
    "print(len(metadata))\n",
    "metadata.head()"
   ]
  },
  {
   "cell_type": "code",
   "execution_count": 70,
   "metadata": {},
   "outputs": [
    {
     "data": {
      "text/plain": [
       "8.487808528596624"
      ]
     },
     "execution_count": 70,
     "metadata": {},
     "output_type": "execute_result"
    }
   ],
   "source": [
    "metadata['audio_duration'].sum()/(60*60)"
   ]
  },
  {
   "cell_type": "code",
   "execution_count": 71,
   "metadata": {},
   "outputs": [
    {
     "data": {
      "text/html": [
       "<div>\n",
       "<style scoped>\n",
       "    .dataframe tbody tr th:only-of-type {\n",
       "        vertical-align: middle;\n",
       "    }\n",
       "\n",
       "    .dataframe tbody tr th {\n",
       "        vertical-align: top;\n",
       "    }\n",
       "\n",
       "    .dataframe thead th {\n",
       "        text-align: right;\n",
       "    }\n",
       "</style>\n",
       "<table border=\"1\" class=\"dataframe\">\n",
       "  <thead>\n",
       "    <tr style=\"text-align: right;\">\n",
       "      <th></th>\n",
       "      <th>text_length</th>\n",
       "      <th>audio_duration</th>\n",
       "    </tr>\n",
       "  </thead>\n",
       "  <tbody>\n",
       "    <tr>\n",
       "      <th>count</th>\n",
       "      <td>4400.000000</td>\n",
       "      <td>4400.000000</td>\n",
       "    </tr>\n",
       "    <tr>\n",
       "      <th>mean</th>\n",
       "      <td>59.937500</td>\n",
       "      <td>6.944571</td>\n",
       "    </tr>\n",
       "    <tr>\n",
       "      <th>std</th>\n",
       "      <td>34.133098</td>\n",
       "      <td>3.233102</td>\n",
       "    </tr>\n",
       "    <tr>\n",
       "      <th>min</th>\n",
       "      <td>2.000000</td>\n",
       "      <td>1.280000</td>\n",
       "    </tr>\n",
       "    <tr>\n",
       "      <th>25%</th>\n",
       "      <td>34.000000</td>\n",
       "      <td>4.522676</td>\n",
       "    </tr>\n",
       "    <tr>\n",
       "      <th>50%</th>\n",
       "      <td>56.000000</td>\n",
       "      <td>6.400000</td>\n",
       "    </tr>\n",
       "    <tr>\n",
       "      <th>75%</th>\n",
       "      <td>81.000000</td>\n",
       "      <td>8.789342</td>\n",
       "    </tr>\n",
       "    <tr>\n",
       "      <th>max</th>\n",
       "      <td>198.000000</td>\n",
       "      <td>26.794694</td>\n",
       "    </tr>\n",
       "  </tbody>\n",
       "</table>\n",
       "</div>"
      ],
      "text/plain": [
       "       text_length  audio_duration\n",
       "count  4400.000000     4400.000000\n",
       "mean     59.937500        6.944571\n",
       "std      34.133098        3.233102\n",
       "min       2.000000        1.280000\n",
       "25%      34.000000        4.522676\n",
       "50%      56.000000        6.400000\n",
       "75%      81.000000        8.789342\n",
       "max     198.000000       26.794694"
      ]
     },
     "execution_count": 71,
     "metadata": {},
     "output_type": "execute_result"
    }
   ],
   "source": [
    "metadata.describe()"
   ]
  },
  {
   "cell_type": "code",
   "execution_count": 72,
   "metadata": {},
   "outputs": [],
   "source": [
    "metadata.to_csv(f'{data_dir_new}/metadata.csv', sep='|', index=False, header=False)"
   ]
  },
  {
   "cell_type": "markdown",
   "metadata": {},
   "source": [
    "# Make train-test splits"
   ]
  },
  {
   "cell_type": "code",
   "execution_count": 73,
   "metadata": {},
   "outputs": [
    {
     "name": "stdout",
     "output_type": "stream",
     "text": [
      "(4400, 6)\n"
     ]
    },
    {
     "data": {
      "text/html": [
       "<div>\n",
       "<style scoped>\n",
       "    .dataframe tbody tr th:only-of-type {\n",
       "        vertical-align: middle;\n",
       "    }\n",
       "\n",
       "    .dataframe tbody tr th {\n",
       "        vertical-align: top;\n",
       "    }\n",
       "\n",
       "    .dataframe thead th {\n",
       "        text-align: right;\n",
       "    }\n",
       "</style>\n",
       "<table border=\"1\" class=\"dataframe\">\n",
       "  <thead>\n",
       "    <tr style=\"text-align: right;\">\n",
       "      <th></th>\n",
       "      <th>id</th>\n",
       "      <th>text</th>\n",
       "      <th>speaker</th>\n",
       "      <th>gender</th>\n",
       "      <th>text_length</th>\n",
       "      <th>audio_duration</th>\n",
       "    </tr>\n",
       "  </thead>\n",
       "  <tbody>\n",
       "    <tr>\n",
       "      <th>0</th>\n",
       "      <td>knm_05927_01699170109</td>\n",
       "      <td>ಬಾಗಿಲಿಗೆ ಬಂದ ಜ್ಯೋತಿಯನ್ನು ಸ್ವಾಗತಿಸಿ</td>\n",
       "      <td>knm_05927</td>\n",
       "      <td>male</td>\n",
       "      <td>34</td>\n",
       "      <td>3.925351</td>\n",
       "    </tr>\n",
       "    <tr>\n",
       "      <th>1</th>\n",
       "      <td>knm_08025_01815510700</td>\n",
       "      <td>ತೊಡೆಸಂದಿಯ ಅಂಡವಾಯುಗಳು ಪುರುಷರ ಮತ್ತು ಮಹಿಳೆಯರಲ್ಲಿನ...</td>\n",
       "      <td>knm_08025</td>\n",
       "      <td>male</td>\n",
       "      <td>87</td>\n",
       "      <td>8.960000</td>\n",
       "    </tr>\n",
       "    <tr>\n",
       "      <th>2</th>\n",
       "      <td>knm_00574_01153125164</td>\n",
       "      <td>ನಿಲ್ದಾಣದ ಮೂಲಕ ಮುಕ್ತವಾಗಿ ತೇಲಾಡುತ್ತ ಮಲಗಬಹುದು</td>\n",
       "      <td>knm_00574</td>\n",
       "      <td>male</td>\n",
       "      <td>42</td>\n",
       "      <td>4.608027</td>\n",
       "    </tr>\n",
       "    <tr>\n",
       "      <th>3</th>\n",
       "      <td>knm_01114_01558059071</td>\n",
       "      <td>ಅಂಡಮಾನಿನ ಪುಲಗ ಹಾಗೂ ಪ್ರಾಚೀನ ಭಾರತದ ವರುಣ ಅಂತರಿಕ್ಷ...</td>\n",
       "      <td>knm_01114</td>\n",
       "      <td>male</td>\n",
       "      <td>75</td>\n",
       "      <td>8.874694</td>\n",
       "    </tr>\n",
       "    <tr>\n",
       "      <th>4</th>\n",
       "      <td>knm_00271_00413960012</td>\n",
       "      <td>ಈ ಸಮ್ಮೇಳನ ಕೇಂದ್ರ ಬ್ಯಾಂಕುಗಳೊಳಗೆ ಬೆಳೆಯಬೇಕಾದ ಸಹಕಾ...</td>\n",
       "      <td>knm_00271</td>\n",
       "      <td>male</td>\n",
       "      <td>75</td>\n",
       "      <td>6.997370</td>\n",
       "    </tr>\n",
       "  </tbody>\n",
       "</table>\n",
       "</div>"
      ],
      "text/plain": [
       "                      id                                               text  \\\n",
       "0  knm_05927_01699170109                 ಬಾಗಿಲಿಗೆ ಬಂದ ಜ್ಯೋತಿಯನ್ನು ಸ್ವಾಗತಿಸಿ   \n",
       "1  knm_08025_01815510700  ತೊಡೆಸಂದಿಯ ಅಂಡವಾಯುಗಳು ಪುರುಷರ ಮತ್ತು ಮಹಿಳೆಯರಲ್ಲಿನ...   \n",
       "2  knm_00574_01153125164         ನಿಲ್ದಾಣದ ಮೂಲಕ ಮುಕ್ತವಾಗಿ ತೇಲಾಡುತ್ತ ಮಲಗಬಹುದು   \n",
       "3  knm_01114_01558059071  ಅಂಡಮಾನಿನ ಪುಲಗ ಹಾಗೂ ಪ್ರಾಚೀನ ಭಾರತದ ವರುಣ ಅಂತರಿಕ್ಷ...   \n",
       "4  knm_00271_00413960012  ಈ ಸಮ್ಮೇಳನ ಕೇಂದ್ರ ಬ್ಯಾಂಕುಗಳೊಳಗೆ ಬೆಳೆಯಬೇಕಾದ ಸಹಕಾ...   \n",
       "\n",
       "     speaker gender  text_length  audio_duration  \n",
       "0  knm_05927   male           34        3.925351  \n",
       "1  knm_08025   male           87        8.960000  \n",
       "2  knm_00574   male           42        4.608027  \n",
       "3  knm_01114   male           75        8.874694  \n",
       "4  knm_00271   male           75        6.997370  "
      ]
     },
     "execution_count": 73,
     "metadata": {},
     "output_type": "execute_result"
    }
   ],
   "source": [
    "df = pd.read_csv(f'{data_dir_new}/metadata.csv', sep='|', names=['id', 'text', 'speaker', 'gender', 'text_length', 'audio_duration'])\n",
    "print(df.shape)\n",
    "df.head()"
   ]
  },
  {
   "cell_type": "code",
   "execution_count": 82,
   "metadata": {},
   "outputs": [
    {
     "name": "stdout",
     "output_type": "stream",
     "text": [
      "(4398, 6)\n"
     ]
    }
   ],
   "source": [
    "filtered_speakers = [k for k, v in df['speaker'].value_counts().to_dict().items() if v > 2]\n",
    "df = df[df['speaker'].isin(filtered_speakers)]\n",
    "print(df.shape)"
   ]
  },
  {
   "cell_type": "code",
   "execution_count": 83,
   "metadata": {},
   "outputs": [
    {
     "name": "stdout",
     "output_type": "stream",
     "text": [
      "4298 100\n"
     ]
    }
   ],
   "source": [
    "df_train, df_test = train_test_split(df, test_size=100, stratify=df['speaker'], random_state=0)\n",
    "print(len(df_train), len(df_test))"
   ]
  },
  {
   "cell_type": "code",
   "execution_count": 84,
   "metadata": {},
   "outputs": [],
   "source": [
    "df_train.to_csv(f'{data_dir_new}/metadata_train.csv', sep='|', index=False, header=False)\n",
    "df_test.to_csv(f'{data_dir_new}/metadata_test.csv', sep='|', index=False, header=False)"
   ]
  },
  {
   "cell_type": "markdown",
   "metadata": {},
   "source": []
  }
 ],
 "metadata": {
  "kernelspec": {
   "display_name": "tts-env1",
   "language": "python",
   "name": "tts-env1"
  },
  "orig_nbformat": 4
 },
 "nbformat": 4,
 "nbformat_minor": 2
}
