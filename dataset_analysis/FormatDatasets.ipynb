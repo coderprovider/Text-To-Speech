{
 "cells": [
  {
   "cell_type": "code",
   "execution_count": 7,
   "metadata": {},
   "outputs": [],
   "source": [
    "import os\n",
    "import shutil\n",
    "\n",
    "import librosa\n",
    "import pandas as pd\n",
    "import soundfile as sf\n",
    "\n",
    "from tqdm.auto import tqdm"
   ]
  },
  {
   "cell_type": "markdown",
   "metadata": {},
   "source": [
    "# AI4B in LJSpeech format"
   ]
  },
  {
   "cell_type": "code",
   "execution_count": 2,
   "metadata": {},
   "outputs": [],
   "source": [
    "data_dir = \"/home/gokul_kumar/Desktop/data/tts/ai4b\"\n",
    "data_dir_new = data_dir.replace('ai4b', 'ai4b_preprocessed')"
   ]
  },
  {
   "cell_type": "code",
   "execution_count": null,
   "metadata": {},
   "outputs": [],
   "source": [
    "os.makedirs(data_dir_new)"
   ]
  },
  {
   "cell_type": "code",
   "execution_count": 3,
   "metadata": {},
   "outputs": [
    {
     "data": {
      "text/plain": [
       "'/home/gokul_kumar/Desktop/data/tts/ai4b_preprocessed/wavs'"
      ]
     },
     "execution_count": 3,
     "metadata": {},
     "output_type": "execute_result"
    }
   ],
   "source": [
    "shutil.copytree(f'{data_dir}/male/mono/wav', f'{data_dir_new}/wavs')"
   ]
  },
  {
   "cell_type": "code",
   "execution_count": 6,
   "metadata": {},
   "outputs": [
    {
     "data": {
      "text/plain": [
       "'/home/gokul_kumar/Desktop/data/tts/ai4b_preprocessed/wavs'"
      ]
     },
     "execution_count": 6,
     "metadata": {},
     "output_type": "execute_result"
    }
   ],
   "source": [
    "shutil.copytree(f'{data_dir}/female/mono/wav', f'{data_dir_new}/wavs', dirs_exist_ok=True)"
   ]
  },
  {
   "cell_type": "code",
   "execution_count": 23,
   "metadata": {},
   "outputs": [
    {
     "name": "stdout",
     "output_type": "stream",
     "text": [
      "(3717, 3)\n"
     ]
    },
    {
     "data": {
      "text/html": [
       "<div>\n",
       "<style scoped>\n",
       "    .dataframe tbody tr th:only-of-type {\n",
       "        vertical-align: middle;\n",
       "    }\n",
       "\n",
       "    .dataframe tbody tr th {\n",
       "        vertical-align: top;\n",
       "    }\n",
       "\n",
       "    .dataframe thead th {\n",
       "        text-align: right;\n",
       "    }\n",
       "</style>\n",
       "<table border=\"1\" class=\"dataframe\">\n",
       "  <thead>\n",
       "    <tr style=\"text-align: right;\">\n",
       "      <th></th>\n",
       "      <th>0</th>\n",
       "      <th>1</th>\n",
       "      <th>2</th>\n",
       "    </tr>\n",
       "  </thead>\n",
       "  <tbody>\n",
       "    <tr>\n",
       "      <th>0</th>\n",
       "      <td>train_tamilmale_00001</td>\n",
       "      <td>அது தஞ்சாவூர்க் கோட்டைக்குள் பிரவேசிக்கவும் சக...</td>\n",
       "      <td>male</td>\n",
       "    </tr>\n",
       "    <tr>\n",
       "      <th>1</th>\n",
       "      <td>train_tamilmale_00002</td>\n",
       "      <td>அதற்குத் தகுந்தபடி ஏதாவது கொஞ்சம் பேசி வேஷம் ப...</td>\n",
       "      <td>male</td>\n",
       "    </tr>\n",
       "    <tr>\n",
       "      <th>2</th>\n",
       "      <td>train_tamilmale_00003</td>\n",
       "      <td>ஆனால் அவன் எதிர்பார்த்த சந்தர்ப்பம் ஒன்றும் கி...</td>\n",
       "      <td>male</td>\n",
       "    </tr>\n",
       "    <tr>\n",
       "      <th>3</th>\n",
       "      <td>train_tamilmale_00004</td>\n",
       "      <td>அப்படியும் பல்லக்கு கீழே வைக்கப்படவில்லை ஒரே ம...</td>\n",
       "      <td>male</td>\n",
       "    </tr>\n",
       "    <tr>\n",
       "      <th>4</th>\n",
       "      <td>train_tamilmale_00005</td>\n",
       "      <td>கோட்டைக்குள் பல்லக்குப் போய்விட்டால் அப்புறம் ...</td>\n",
       "      <td>male</td>\n",
       "    </tr>\n",
       "  </tbody>\n",
       "</table>\n",
       "</div>"
      ],
      "text/plain": [
       "                       0                                                  1  \\\n",
       "0  train_tamilmale_00001  அது தஞ்சாவூர்க் கோட்டைக்குள் பிரவேசிக்கவும் சக...   \n",
       "1  train_tamilmale_00002  அதற்குத் தகுந்தபடி ஏதாவது கொஞ்சம் பேசி வேஷம் ப...   \n",
       "2  train_tamilmale_00003  ஆனால் அவன் எதிர்பார்த்த சந்தர்ப்பம் ஒன்றும் கி...   \n",
       "3  train_tamilmale_00004  அப்படியும் பல்லக்கு கீழே வைக்கப்படவில்லை ஒரே ம...   \n",
       "4  train_tamilmale_00005  கோட்டைக்குள் பல்லக்குப் போய்விட்டால் அப்புறம் ...   \n",
       "\n",
       "      2  \n",
       "0  male  \n",
       "1  male  \n",
       "2  male  \n",
       "3  male  \n",
       "4  male  "
      ]
     },
     "execution_count": 23,
     "metadata": {},
     "output_type": "execute_result"
    }
   ],
   "source": [
    "metadata_male_fp = f\"{data_dir}/male/mono/txt.done.data\"\n",
    "metadata_male = pd.read_csv(metadata_male_fp, sep='\"', usecols=[0,1], header=None)\n",
    "metadata_male[0] = metadata_male[0].str[2:].str.strip()\n",
    "metadata_male[1] = metadata_male[1].str.strip()\n",
    "metadata_male[2] = 'male'\n",
    "print(metadata_male.shape)\n",
    "metadata_male.head()"
   ]
  },
  {
   "cell_type": "code",
   "execution_count": 24,
   "metadata": {},
   "outputs": [
    {
     "name": "stdout",
     "output_type": "stream",
     "text": [
      "(3243, 3)\n"
     ]
    },
    {
     "data": {
      "text/html": [
       "<div>\n",
       "<style scoped>\n",
       "    .dataframe tbody tr th:only-of-type {\n",
       "        vertical-align: middle;\n",
       "    }\n",
       "\n",
       "    .dataframe tbody tr th {\n",
       "        vertical-align: top;\n",
       "    }\n",
       "\n",
       "    .dataframe thead th {\n",
       "        text-align: right;\n",
       "    }\n",
       "</style>\n",
       "<table border=\"1\" class=\"dataframe\">\n",
       "  <thead>\n",
       "    <tr style=\"text-align: right;\">\n",
       "      <th></th>\n",
       "      <th>0</th>\n",
       "      <th>1</th>\n",
       "      <th>2</th>\n",
       "    </tr>\n",
       "  </thead>\n",
       "  <tbody>\n",
       "    <tr>\n",
       "      <th>0</th>\n",
       "      <td>train_tamilfemale_00001</td>\n",
       "      <td>அதற்குத் தகுந்தபடி, ஏதாவது கொஞ்சம் பேசி, வேஷம்...</td>\n",
       "      <td>female</td>\n",
       "    </tr>\n",
       "    <tr>\n",
       "      <th>1</th>\n",
       "      <td>train_tamilfemale_00002</td>\n",
       "      <td>ஆனால், அவன் எதிர்பார்த்த சந்தர்ப்பம் ஒன்றும், ...</td>\n",
       "      <td>female</td>\n",
       "    </tr>\n",
       "    <tr>\n",
       "      <th>2</th>\n",
       "      <td>train_tamilfemale_00003</td>\n",
       "      <td>அப்படியும், பல்லக்கு கீழே வைக்கப்படவில்லை ஒரே ...</td>\n",
       "      <td>female</td>\n",
       "    </tr>\n",
       "    <tr>\n",
       "      <th>3</th>\n",
       "      <td>train_tamilfemale_00004</td>\n",
       "      <td>கோட்டைக்குள் பல்லக்குப் போய்விட்டால், அப்புறம்...</td>\n",
       "      <td>female</td>\n",
       "    </tr>\n",
       "    <tr>\n",
       "      <th>4</th>\n",
       "      <td>train_tamilfemale_00005</td>\n",
       "      <td>எடுத்த காரியத்தை முடிக்காமல், உயிரோடு திரும்பி...</td>\n",
       "      <td>female</td>\n",
       "    </tr>\n",
       "  </tbody>\n",
       "</table>\n",
       "</div>"
      ],
      "text/plain": [
       "                         0                                                  1  \\\n",
       "0  train_tamilfemale_00001  அதற்குத் தகுந்தபடி, ஏதாவது கொஞ்சம் பேசி, வேஷம்...   \n",
       "1  train_tamilfemale_00002  ஆனால், அவன் எதிர்பார்த்த சந்தர்ப்பம் ஒன்றும், ...   \n",
       "2  train_tamilfemale_00003  அப்படியும், பல்லக்கு கீழே வைக்கப்படவில்லை ஒரே ...   \n",
       "3  train_tamilfemale_00004  கோட்டைக்குள் பல்லக்குப் போய்விட்டால், அப்புறம்...   \n",
       "4  train_tamilfemale_00005  எடுத்த காரியத்தை முடிக்காமல், உயிரோடு திரும்பி...   \n",
       "\n",
       "        2  \n",
       "0  female  \n",
       "1  female  \n",
       "2  female  \n",
       "3  female  \n",
       "4  female  "
      ]
     },
     "execution_count": 24,
     "metadata": {},
     "output_type": "execute_result"
    }
   ],
   "source": [
    "metadata_female_fp = f\"{data_dir}/female/mono/txt.done.data\"\n",
    "metadata_female = pd.read_csv(metadata_female_fp, sep='\"', usecols=[0,1], header=None)\n",
    "metadata_female[0] = metadata_female[0].str[2:].str.strip()\n",
    "metadata_female[1] = metadata_female[1].str.strip()\n",
    "metadata_female[2] = 'female'\n",
    "print(metadata_female.shape)\n",
    "metadata_female.head()"
   ]
  },
  {
   "cell_type": "code",
   "execution_count": 25,
   "metadata": {},
   "outputs": [
    {
     "data": {
      "text/html": [
       "<div>\n",
       "<style scoped>\n",
       "    .dataframe tbody tr th:only-of-type {\n",
       "        vertical-align: middle;\n",
       "    }\n",
       "\n",
       "    .dataframe tbody tr th {\n",
       "        vertical-align: top;\n",
       "    }\n",
       "\n",
       "    .dataframe thead th {\n",
       "        text-align: right;\n",
       "    }\n",
       "</style>\n",
       "<table border=\"1\" class=\"dataframe\">\n",
       "  <thead>\n",
       "    <tr style=\"text-align: right;\">\n",
       "      <th></th>\n",
       "      <th>0</th>\n",
       "      <th>1</th>\n",
       "      <th>2</th>\n",
       "    </tr>\n",
       "  </thead>\n",
       "  <tbody>\n",
       "    <tr>\n",
       "      <th>0</th>\n",
       "      <td>train_tamilmale_00001</td>\n",
       "      <td>அது தஞ்சாவூர்க் கோட்டைக்குள் பிரவேசிக்கவும் சக...</td>\n",
       "      <td>male</td>\n",
       "    </tr>\n",
       "    <tr>\n",
       "      <th>1</th>\n",
       "      <td>train_tamilmale_00002</td>\n",
       "      <td>அதற்குத் தகுந்தபடி ஏதாவது கொஞ்சம் பேசி வேஷம் ப...</td>\n",
       "      <td>male</td>\n",
       "    </tr>\n",
       "    <tr>\n",
       "      <th>2</th>\n",
       "      <td>train_tamilmale_00003</td>\n",
       "      <td>ஆனால் அவன் எதிர்பார்த்த சந்தர்ப்பம் ஒன்றும் கி...</td>\n",
       "      <td>male</td>\n",
       "    </tr>\n",
       "    <tr>\n",
       "      <th>3</th>\n",
       "      <td>train_tamilmale_00004</td>\n",
       "      <td>அப்படியும் பல்லக்கு கீழே வைக்கப்படவில்லை ஒரே ம...</td>\n",
       "      <td>male</td>\n",
       "    </tr>\n",
       "    <tr>\n",
       "      <th>4</th>\n",
       "      <td>train_tamilmale_00005</td>\n",
       "      <td>கோட்டைக்குள் பல்லக்குப் போய்விட்டால் அப்புறம் ...</td>\n",
       "      <td>male</td>\n",
       "    </tr>\n",
       "    <tr>\n",
       "      <th>...</th>\n",
       "      <td>...</td>\n",
       "      <td>...</td>\n",
       "      <td>...</td>\n",
       "    </tr>\n",
       "    <tr>\n",
       "      <th>6955</th>\n",
       "      <td>train_tamilfemale_03239</td>\n",
       "      <td>பின்பு அவர், துரியோதனனுடன் சதுரங்கம் ஆடி, அதில...</td>\n",
       "      <td>female</td>\n",
       "    </tr>\n",
       "    <tr>\n",
       "      <th>6956</th>\n",
       "      <td>train_tamilfemale_03240</td>\n",
       "      <td>பெட்டிக்குள்ளிருந்த, கல்லில்தான் ஏதோ மாயசக்தி ...</td>\n",
       "      <td>female</td>\n",
       "    </tr>\n",
       "    <tr>\n",
       "      <th>6957</th>\n",
       "      <td>train_tamilfemale_03241</td>\n",
       "      <td>அது போல, சத்துருஜித்தின் தாத்தா யுதாஜித், உஜ்ஜ...</td>\n",
       "      <td>female</td>\n",
       "    </tr>\n",
       "    <tr>\n",
       "      <th>6958</th>\n",
       "      <td>train_tamilfemale_03242</td>\n",
       "      <td>அது கேட்டு கும்பகர்ணன், நீங்கள் சீதையைக் கவர்ந...</td>\n",
       "      <td>female</td>\n",
       "    </tr>\n",
       "    <tr>\n",
       "      <th>6959</th>\n",
       "      <td>train_tamilfemale_03243</td>\n",
       "      <td>அப்படி இல்லாமல், முன்பின் சற்றும் யோசியாது, அவ...</td>\n",
       "      <td>female</td>\n",
       "    </tr>\n",
       "  </tbody>\n",
       "</table>\n",
       "<p>6960 rows × 3 columns</p>\n",
       "</div>"
      ],
      "text/plain": [
       "                            0  \\\n",
       "0       train_tamilmale_00001   \n",
       "1       train_tamilmale_00002   \n",
       "2       train_tamilmale_00003   \n",
       "3       train_tamilmale_00004   \n",
       "4       train_tamilmale_00005   \n",
       "...                       ...   \n",
       "6955  train_tamilfemale_03239   \n",
       "6956  train_tamilfemale_03240   \n",
       "6957  train_tamilfemale_03241   \n",
       "6958  train_tamilfemale_03242   \n",
       "6959  train_tamilfemale_03243   \n",
       "\n",
       "                                                      1       2  \n",
       "0     அது தஞ்சாவூர்க் கோட்டைக்குள் பிரவேசிக்கவும் சக...    male  \n",
       "1     அதற்குத் தகுந்தபடி ஏதாவது கொஞ்சம் பேசி வேஷம் ப...    male  \n",
       "2     ஆனால் அவன் எதிர்பார்த்த சந்தர்ப்பம் ஒன்றும் கி...    male  \n",
       "3     அப்படியும் பல்லக்கு கீழே வைக்கப்படவில்லை ஒரே ம...    male  \n",
       "4     கோட்டைக்குள் பல்லக்குப் போய்விட்டால் அப்புறம் ...    male  \n",
       "...                                                 ...     ...  \n",
       "6955  பின்பு அவர், துரியோதனனுடன் சதுரங்கம் ஆடி, அதில...  female  \n",
       "6956  பெட்டிக்குள்ளிருந்த, கல்லில்தான் ஏதோ மாயசக்தி ...  female  \n",
       "6957  அது போல, சத்துருஜித்தின் தாத்தா யுதாஜித், உஜ்ஜ...  female  \n",
       "6958  அது கேட்டு கும்பகர்ணன், நீங்கள் சீதையைக் கவர்ந...  female  \n",
       "6959  அப்படி இல்லாமல், முன்பின் சற்றும் யோசியாது, அவ...  female  \n",
       "\n",
       "[6960 rows x 3 columns]"
      ]
     },
     "execution_count": 25,
     "metadata": {},
     "output_type": "execute_result"
    }
   ],
   "source": [
    "metadata = pd.concat([metadata_male, metadata_female]).reset_index(drop=True)\n",
    "metadata"
   ]
  },
  {
   "cell_type": "code",
   "execution_count": 28,
   "metadata": {},
   "outputs": [],
   "source": [
    "metadata.to_csv(f'{data_dir_new}/metadata.csv', sep='|', index=False, header=False)"
   ]
  },
  {
   "cell_type": "markdown",
   "metadata": {},
   "source": [
    "## Resampling"
   ]
  },
  {
   "cell_type": "code",
   "execution_count": 3,
   "metadata": {},
   "outputs": [],
   "source": [
    "os.makedirs(f'{data_dir_new}/wavs-20k')"
   ]
  },
  {
   "cell_type": "code",
   "execution_count": 12,
   "metadata": {},
   "outputs": [
    {
     "data": {
      "application/vnd.jupyter.widget-view+json": {
       "model_id": "8999f6e4a2bf4f80a118a04095e3e0e2",
       "version_major": 2,
       "version_minor": 0
      },
      "text/plain": [
       "HBox(children=(FloatProgress(value=0.0, max=6960.0), HTML(value='')))"
      ]
     },
     "metadata": {},
     "output_type": "display_data"
    },
    {
     "name": "stdout",
     "output_type": "stream",
     "text": [
      "\n"
     ]
    }
   ],
   "source": [
    "for fn in tqdm(os.listdir(f'{data_dir_new}/wavs')):\n",
    "    fp_src = f'{data_dir_new}/wavs/{fn}'\n",
    "    fp_dst =  f'{data_dir_new}/wavs-20k/{fn}'\n",
    "\n",
    "    y, sr = librosa.load(fp_src, sr=22050)\n",
    "    sf.write(fp_dst, y, sr, 'PCM_24')"
   ]
  },
  {
   "cell_type": "code",
   "execution_count": null,
   "metadata": {},
   "outputs": [],
   "source": []
  }
 ],
 "metadata": {
  "kernelspec": {
   "display_name": "Python 3.8.10 64-bit",
   "language": "python",
   "name": "python3"
  },
  "language_info": {
   "codemirror_mode": {
    "name": "ipython",
    "version": 3
   },
   "file_extension": ".py",
   "mimetype": "text/x-python",
   "name": "python",
   "nbconvert_exporter": "python",
   "pygments_lexer": "ipython3",
   "version": "3.8.10"
  },
  "orig_nbformat": 4,
  "vscode": {
   "interpreter": {
    "hash": "31f2aee4e71d21fbe5cf8b01ff0e069b9275f58929596ceb00d14d90e3e16cd6"
   }
  }
 },
 "nbformat": 4,
 "nbformat_minor": 2
}
