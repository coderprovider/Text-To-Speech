{
 "cells": [
  {
   "cell_type": "code",
   "execution_count": 9,
   "metadata": {},
   "outputs": [],
   "source": [
    "import os\n",
    "import shutil\n",
    "from multiprocessing import Pool\n",
    "\n",
    "import librosa\n",
    "import pandas as pd\n",
    "import soundfile as sf\n",
    "\n",
    "from sklearn.model_selection import train_test_split\n",
    "from tqdm.auto import tqdm\n",
    "\n",
    "language = 'Tamil'\n",
    "lang = 'ta'"
   ]
  },
  {
   "cell_type": "markdown",
   "metadata": {},
   "source": [
    "# IndicTTS in LJSpeech format"
   ]
  },
  {
   "cell_type": "code",
   "execution_count": null,
   "metadata": {},
   "outputs": [],
   "source": [
    "data_dir = f\"/nlsasfs/home/ai4bharat/manidl/ttsteam/datasets/Indic TTS Data/TTS_data_Phase2_to_be_copied/{language}\"\n",
    "data_dir_new = f\"/nlsasfs/home/ai4bharat/manidl/ttsteam/datasets/indictts/{lang}\""
   ]
  },
  {
   "cell_type": "code",
   "execution_count": null,
   "metadata": {},
   "outputs": [],
   "source": [
    "os.makedirs(data_dir_new)"
   ]
  },
  {
   "cell_type": "code",
   "execution_count": null,
   "metadata": {},
   "outputs": [],
   "source": [
    "shutil.copytree(f'{data_dir}/male/mono/wav', f'{data_dir_new}/wavs')"
   ]
  },
  {
   "cell_type": "code",
   "execution_count": null,
   "metadata": {},
   "outputs": [],
   "source": [
    "shutil.copytree(f'{data_dir}/female/mono/wav', f'{data_dir_new}/wavs', dirs_exist_ok=True)"
   ]
  },
  {
   "cell_type": "code",
   "execution_count": null,
   "metadata": {},
   "outputs": [],
   "source": [
    "metadata_male_fp = f\"{data_dir}/male/mono/txt.done.data\"\n",
    "metadata_male = pd.read_csv(metadata_male_fp, sep='\"', usecols=[0,1], header=None)\n",
    "metadata_male[0] = metadata_male[0].str[2:].str.strip()\n",
    "metadata_male[1] = metadata_male[1].str.strip()\n",
    "metadata_male[2] = 'male'\n",
    "print(metadata_male.shape)\n",
    "metadata_male.head()"
   ]
  },
  {
   "cell_type": "code",
   "execution_count": null,
   "metadata": {},
   "outputs": [],
   "source": [
    "metadata_female_fp = f\"{data_dir}/female/mono/txt.done.data\"\n",
    "metadata_female = pd.read_csv(metadata_female_fp, sep='\"', usecols=[0,1], header=None)\n",
    "metadata_female[0] = metadata_female[0].str[2:].str.strip()\n",
    "metadata_female[1] = metadata_female[1].str.strip()\n",
    "metadata_female[2] = 'female'\n",
    "print(metadata_female.shape)\n",
    "metadata_female.head()"
   ]
  },
  {
   "cell_type": "code",
   "execution_count": null,
   "metadata": {},
   "outputs": [],
   "source": [
    "metadata = pd.concat([metadata_male, metadata_female]).reset_index(drop=True)\n",
    "metadata"
   ]
  },
  {
   "cell_type": "code",
   "execution_count": null,
   "metadata": {},
   "outputs": [],
   "source": [
    "metadata.to_csv(f'{data_dir_new}/metadata.csv', sep='|', index=False, header=False)"
   ]
  },
  {
   "cell_type": "markdown",
   "metadata": {},
   "source": [
    "## Resampling"
   ]
  },
  {
   "cell_type": "code",
   "execution_count": null,
   "metadata": {},
   "outputs": [],
   "source": [
    "os.makedirs(f'{data_dir_new}/wavs-20k')"
   ]
  },
  {
   "cell_type": "code",
   "execution_count": null,
   "metadata": {},
   "outputs": [],
   "source": [
    "def resample_file(func_args):\n",
    "    fp_src, fp_dst, output_sr = func_args\n",
    "    y, sr = librosa.load(fp_src, sr=output_sr)\n",
    "    sf.write(fp_dst, y, sr)"
   ]
  },
  {
   "cell_type": "code",
   "execution_count": null,
   "metadata": {},
   "outputs": [],
   "source": [
    "fps_src = [f'{data_dir_new}/wavs/{fn}' for fn in tqdm(os.listdir(f'{data_dir_new}/wavs'))]\n",
    "fps_dst = [f'{data_dir_new}/wavs-20k/{fn}' for fn in tqdm(os.listdir(f'{data_dir_new}/wavs'))]\n",
    "srs = [22050] * len(fps_src)"
   ]
  },
  {
   "cell_type": "code",
   "execution_count": null,
   "metadata": {},
   "outputs": [],
   "source": [
    "audio_files = list(zip(fps_src, fps_dst, srs))\n",
    "with Pool(processes=64) as p:\n",
    "    with tqdm(total=len(fps_src)) as pbar:\n",
    "        for i, _ in enumerate(p.imap_unordered(resample_file, audio_files)):\n",
    "            pbar.update()"
   ]
  },
  {
   "cell_type": "code",
   "execution_count": null,
   "metadata": {},
   "outputs": [],
   "source": [
    "# for fn in tqdm(os.listdir(f'{data_dir_new}/wavs')):\n",
    "#     fp_src = f'{data_dir_new}/wavs/{fn}'\n",
    "#     fp_dst =  f'{data_dir_new}/wavs-20k/{fn}'\n",
    "\n",
    "#     y, sr = librosa.load(fp_src, sr=22050)\n",
    "#     sf.write(fp_dst, y, sr, 'PCM_24')"
   ]
  },
  {
   "cell_type": "markdown",
   "metadata": {},
   "source": [
    "## Format data for eval"
   ]
  },
  {
   "cell_type": "code",
   "execution_count": 10,
   "metadata": {},
   "outputs": [],
   "source": [
    "data_dir = f\"/nlsasfs/home/ai4bharat/manidl/ttsteam/datasets/indictts/{lang}\""
   ]
  },
  {
   "cell_type": "code",
   "execution_count": 11,
   "metadata": {},
   "outputs": [
    {
     "name": "stdout",
     "output_type": "stream",
     "text": [
      "(6960, 3)\n"
     ]
    },
    {
     "data": {
      "text/html": [
       "<div>\n",
       "<style scoped>\n",
       "    .dataframe tbody tr th:only-of-type {\n",
       "        vertical-align: middle;\n",
       "    }\n",
       "\n",
       "    .dataframe tbody tr th {\n",
       "        vertical-align: top;\n",
       "    }\n",
       "\n",
       "    .dataframe thead th {\n",
       "        text-align: right;\n",
       "    }\n",
       "</style>\n",
       "<table border=\"1\" class=\"dataframe\">\n",
       "  <thead>\n",
       "    <tr style=\"text-align: right;\">\n",
       "      <th></th>\n",
       "      <th>id</th>\n",
       "      <th>text</th>\n",
       "      <th>speaker</th>\n",
       "    </tr>\n",
       "  </thead>\n",
       "  <tbody>\n",
       "    <tr>\n",
       "      <th>0</th>\n",
       "      <td>train_tamilmale_00001</td>\n",
       "      <td>அது தஞ்சாவூர்க் கோட்டைக்குள் பிரவேசிக்கவும் சக...</td>\n",
       "      <td>male</td>\n",
       "    </tr>\n",
       "    <tr>\n",
       "      <th>1</th>\n",
       "      <td>train_tamilmale_00002</td>\n",
       "      <td>அதற்குத் தகுந்தபடி ஏதாவது கொஞ்சம் பேசி வேஷம் ப...</td>\n",
       "      <td>male</td>\n",
       "    </tr>\n",
       "    <tr>\n",
       "      <th>2</th>\n",
       "      <td>train_tamilmale_00003</td>\n",
       "      <td>ஆனால் அவன் எதிர்பார்த்த சந்தர்ப்பம் ஒன்றும் கி...</td>\n",
       "      <td>male</td>\n",
       "    </tr>\n",
       "    <tr>\n",
       "      <th>3</th>\n",
       "      <td>train_tamilmale_00004</td>\n",
       "      <td>அப்படியும் பல்லக்கு கீழே வைக்கப்படவில்லை ஒரே ம...</td>\n",
       "      <td>male</td>\n",
       "    </tr>\n",
       "    <tr>\n",
       "      <th>4</th>\n",
       "      <td>train_tamilmale_00005</td>\n",
       "      <td>கோட்டைக்குள் பல்லக்குப் போய்விட்டால் அப்புறம் ...</td>\n",
       "      <td>male</td>\n",
       "    </tr>\n",
       "  </tbody>\n",
       "</table>\n",
       "</div>"
      ],
      "text/plain": [
       "                      id                                               text  \\\n",
       "0  train_tamilmale_00001  அது தஞ்சாவூர்க் கோட்டைக்குள் பிரவேசிக்கவும் சக...   \n",
       "1  train_tamilmale_00002  அதற்குத் தகுந்தபடி ஏதாவது கொஞ்சம் பேசி வேஷம் ப...   \n",
       "2  train_tamilmale_00003  ஆனால் அவன் எதிர்பார்த்த சந்தர்ப்பம் ஒன்றும் கி...   \n",
       "3  train_tamilmale_00004  அப்படியும் பல்லக்கு கீழே வைக்கப்படவில்லை ஒரே ம...   \n",
       "4  train_tamilmale_00005  கோட்டைக்குள் பல்லக்குப் போய்விட்டால் அப்புறம் ...   \n",
       "\n",
       "  speaker  \n",
       "0    male  \n",
       "1    male  \n",
       "2    male  \n",
       "3    male  \n",
       "4    male  "
      ]
     },
     "execution_count": 11,
     "metadata": {},
     "output_type": "execute_result"
    }
   ],
   "source": [
    "df = pd.read_csv(f'{data_dir}/metadata.csv', sep='|', names=['id', 'text', 'speaker'])\n",
    "print(df.shape)\n",
    "df.head()"
   ]
  },
  {
   "cell_type": "code",
   "execution_count": 12,
   "metadata": {},
   "outputs": [
    {
     "name": "stdout",
     "output_type": "stream",
     "text": [
      "6890 70\n"
     ]
    }
   ],
   "source": [
    "df_train, df_test = train_test_split(df, test_size=0.01, stratify=df['speaker'], random_state=0)\n",
    "print(len(df_train), len(df_test))"
   ]
  },
  {
   "cell_type": "code",
   "execution_count": 13,
   "metadata": {},
   "outputs": [],
   "source": [
    "df_train.to_csv(f'{data_dir}/metadata_train.csv', sep='|', index=False)\n",
    "df_test.to_csv(f'{data_dir}/metadata_test.csv', sep='|', index=False)"
   ]
  },
  {
   "cell_type": "code",
   "execution_count": 14,
   "metadata": {},
   "outputs": [],
   "source": [
    "os.makedirs(f'{data_dir}/wavs-20k-test-male/')\n",
    "os.makedirs(f'{data_dir}/wavs-20k-test-female/')"
   ]
  },
  {
   "cell_type": "code",
   "execution_count": 15,
   "metadata": {},
   "outputs": [
    {
     "data": {
      "application/vnd.jupyter.widget-view+json": {
       "model_id": "86b27a464d854ddf8e69dc32a58fef5e",
       "version_major": 2,
       "version_minor": 0
      },
      "text/plain": [
       "  0%|          | 0/70 [00:00<?, ?it/s]"
      ]
     },
     "metadata": {},
     "output_type": "display_data"
    }
   ],
   "source": [
    "for row_id, row in tqdm(df_test.iterrows(), total=len(df_test)):\n",
    "    src = f'{data_dir}/wavs-20k/{row[\"id\"]}.wav'\n",
    "    dst = f'{data_dir}/wavs-20k-test-{row[\"speaker\"]}/{row[\"id\"]}.wav'\n",
    "    shutil.copyfile(src, dst)"
   ]
  },
  {
   "cell_type": "code",
   "execution_count": null,
   "metadata": {},
   "outputs": [],
   "source": []
  }
 ],
 "metadata": {
  "kernelspec": {
   "display_name": "Python 3.9.12 ('base')",
   "language": "python",
   "name": "python3"
  },
  "language_info": {
   "codemirror_mode": {
    "name": "ipython",
    "version": 3
   },
   "file_extension": ".py",
   "mimetype": "text/x-python",
   "name": "python",
   "nbconvert_exporter": "python",
   "pygments_lexer": "ipython3",
   "version": "3.9.12"
  },
  "orig_nbformat": 4,
  "vscode": {
   "interpreter": {
    "hash": "e1df6a53bc7d03c69a50e60c8d76b7bc2c9aa031dbe13bd767a0b91832d6bcdc"
   }
  }
 },
 "nbformat": 4,
 "nbformat_minor": 2
}
