{
 "cells": [
  {
   "cell_type": "code",
   "execution_count": 46,
   "metadata": {},
   "outputs": [],
   "source": [
    "import os\n",
    "import shutil\n",
    "from multiprocessing import Pool\n",
    "\n",
    "import librosa\n",
    "import pandas as pd\n",
    "import soundfile as sf\n",
    "\n",
    "from sklearn.model_selection import train_test_split\n",
    "from tqdm.auto import tqdm\n",
    "\n",
    "tqdm.pandas()\n",
    "\n",
    "lang = 'ta'"
   ]
  },
  {
   "cell_type": "code",
   "execution_count": 3,
   "metadata": {},
   "outputs": [],
   "source": [
    "data_dir = f\"/home/gokulkarthikk/datasets/googletts/{lang}/raw\" # update the path\n",
    "data_dir_new = f\"/home/gokulkarthikk/datasets/googletts/{lang}/processed\" # update the path"
   ]
  },
  {
   "cell_type": "markdown",
   "metadata": {},
   "source": [
    "# Process to LJSpeech Format"
   ]
  },
  {
   "cell_type": "code",
   "execution_count": 4,
   "metadata": {},
   "outputs": [],
   "source": [
    "if not os.path.exists(data_dir_new):\n",
    "    os.makedirs(data_dir_new)"
   ]
  },
  {
   "cell_type": "code",
   "execution_count": 16,
   "metadata": {},
   "outputs": [
    {
     "data": {
      "text/plain": [
       "'/home/gokulkarthikk/datasets/googletts/ta/processed/wavs'"
      ]
     },
     "execution_count": 16,
     "metadata": {},
     "output_type": "execute_result"
    }
   ],
   "source": [
    "shutil.copytree(f'{data_dir}/male', f'{data_dir_new}/wavs')"
   ]
  },
  {
   "cell_type": "code",
   "execution_count": 18,
   "metadata": {},
   "outputs": [
    {
     "data": {
      "text/plain": [
       "'/home/gokulkarthikk/datasets/googletts/ta/processed/wavs'"
      ]
     },
     "execution_count": 18,
     "metadata": {},
     "output_type": "execute_result"
    }
   ],
   "source": [
    "shutil.copytree(f'{data_dir}/female', f'{data_dir_new}/wavs', dirs_exist_ok=True)"
   ]
  },
  {
   "cell_type": "code",
   "execution_count": 20,
   "metadata": {},
   "outputs": [],
   "source": [
    "os.remove(f'{data_dir_new}/wavs/LICENSE')\n",
    "os.remove(f'{data_dir_new}/wavs/line_index.tsv')"
   ]
  },
  {
   "cell_type": "code",
   "execution_count": 10,
   "metadata": {},
   "outputs": [
    {
     "name": "stdout",
     "output_type": "stream",
     "text": [
      "(1956, 4)\n"
     ]
    },
    {
     "data": {
      "text/html": [
       "<div>\n",
       "<style scoped>\n",
       "    .dataframe tbody tr th:only-of-type {\n",
       "        vertical-align: middle;\n",
       "    }\n",
       "\n",
       "    .dataframe tbody tr th {\n",
       "        vertical-align: top;\n",
       "    }\n",
       "\n",
       "    .dataframe thead th {\n",
       "        text-align: right;\n",
       "    }\n",
       "</style>\n",
       "<table border=\"1\" class=\"dataframe\">\n",
       "  <thead>\n",
       "    <tr style=\"text-align: right;\">\n",
       "      <th></th>\n",
       "      <th>id</th>\n",
       "      <th>text</th>\n",
       "      <th>speaker</th>\n",
       "      <th>gender</th>\n",
       "    </tr>\n",
       "  </thead>\n",
       "  <tbody>\n",
       "    <tr>\n",
       "      <th>0</th>\n",
       "      <td>tag_09162_01279273055</td>\n",
       "      <td>அவர்களின் படங்களின் டீஸருக்கு கிடைக்கும் வரவேற...</td>\n",
       "      <td>tag_09162</td>\n",
       "      <td>male</td>\n",
       "    </tr>\n",
       "    <tr>\n",
       "      <th>1</th>\n",
       "      <td>tag_01515_01483902699</td>\n",
       "      <td>பாம்பன் ரயில் பாலத்துக்கு வெடிகுண்டு மிரட்டல்</td>\n",
       "      <td>tag_01515</td>\n",
       "      <td>male</td>\n",
       "    </tr>\n",
       "    <tr>\n",
       "      <th>2</th>\n",
       "      <td>tag_03777_01709938953</td>\n",
       "      <td>ஜமேக்கா வன்முறைகளில் முப்பது பேர் உயிரிழப்பு</td>\n",
       "      <td>tag_03777</td>\n",
       "      <td>male</td>\n",
       "    </tr>\n",
       "    <tr>\n",
       "      <th>3</th>\n",
       "      <td>tag_01181_00836855113</td>\n",
       "      <td>கிழக்குப் பல்கலைக்கழத்தில் போருக்குப் பின் அறி...</td>\n",
       "      <td>tag_01181</td>\n",
       "      <td>male</td>\n",
       "    </tr>\n",
       "    <tr>\n",
       "      <th>4</th>\n",
       "      <td>tag_03191_01070187495</td>\n",
       "      <td>நான் நடிகை என்பதற்காக இருவத்தி நான்கு மணி நேரம...</td>\n",
       "      <td>tag_03191</td>\n",
       "      <td>male</td>\n",
       "    </tr>\n",
       "  </tbody>\n",
       "</table>\n",
       "</div>"
      ],
      "text/plain": [
       "                      id                                               text  \\\n",
       "0  tag_09162_01279273055  அவர்களின் படங்களின் டீஸருக்கு கிடைக்கும் வரவேற...   \n",
       "1  tag_01515_01483902699      பாம்பன் ரயில் பாலத்துக்கு வெடிகுண்டு மிரட்டல்   \n",
       "2  tag_03777_01709938953       ஜமேக்கா வன்முறைகளில் முப்பது பேர் உயிரிழப்பு   \n",
       "3  tag_01181_00836855113  கிழக்குப் பல்கலைக்கழத்தில் போருக்குப் பின் அறி...   \n",
       "4  tag_03191_01070187495  நான் நடிகை என்பதற்காக இருவத்தி நான்கு மணி நேரம...   \n",
       "\n",
       "     speaker gender  \n",
       "0  tag_09162   male  \n",
       "1  tag_01515   male  \n",
       "2  tag_03777   male  \n",
       "3  tag_01181   male  \n",
       "4  tag_03191   male  "
      ]
     },
     "execution_count": 10,
     "metadata": {},
     "output_type": "execute_result"
    }
   ],
   "source": [
    "metadata_male_fp = f\"{data_dir}/male/line_index.tsv\"\n",
    "metadata_male = pd.read_csv(metadata_male_fp, sep='\\t', header=None, names=['id', 'text'])\n",
    "metadata_male['speaker'] = metadata_male['id'].str.rsplit('_', 1).str[0]\n",
    "metadata_male['gender'] = 'male'\n",
    "print(metadata_male.shape)\n",
    "metadata_male.head()"
   ]
  },
  {
   "cell_type": "code",
   "execution_count": 11,
   "metadata": {},
   "outputs": [
    {
     "name": "stdout",
     "output_type": "stream",
     "text": [
      "(2335, 4)\n"
     ]
    },
    {
     "data": {
      "text/html": [
       "<div>\n",
       "<style scoped>\n",
       "    .dataframe tbody tr th:only-of-type {\n",
       "        vertical-align: middle;\n",
       "    }\n",
       "\n",
       "    .dataframe tbody tr th {\n",
       "        vertical-align: top;\n",
       "    }\n",
       "\n",
       "    .dataframe thead th {\n",
       "        text-align: right;\n",
       "    }\n",
       "</style>\n",
       "<table border=\"1\" class=\"dataframe\">\n",
       "  <thead>\n",
       "    <tr style=\"text-align: right;\">\n",
       "      <th></th>\n",
       "      <th>id</th>\n",
       "      <th>text</th>\n",
       "      <th>speaker</th>\n",
       "      <th>gender</th>\n",
       "    </tr>\n",
       "  </thead>\n",
       "  <tbody>\n",
       "    <tr>\n",
       "      <th>0</th>\n",
       "      <td>taf_02345_00348037167</td>\n",
       "      <td>ஆஸ்த்ரேலியப் பெண்ணுக்கு முப்பத்தி மூன்று ஆண்டு...</td>\n",
       "      <td>taf_02345</td>\n",
       "      <td>female</td>\n",
       "    </tr>\n",
       "    <tr>\n",
       "      <th>1</th>\n",
       "      <td>taf_07049_00155837462</td>\n",
       "      <td>ஸ்ரீரங்கம் கோவிலில் வெடிகுண்டு மிரட்டல்</td>\n",
       "      <td>taf_07049</td>\n",
       "      <td>female</td>\n",
       "    </tr>\n",
       "    <tr>\n",
       "      <th>2</th>\n",
       "      <td>taf_09705_01218130267</td>\n",
       "      <td>உங்களுடைய உணவுக் கட்டுப்பாட்டைச் சொன்னால் மற்ற...</td>\n",
       "      <td>taf_09705</td>\n",
       "      <td>female</td>\n",
       "    </tr>\n",
       "    <tr>\n",
       "      <th>3</th>\n",
       "      <td>taf_03219_00712757493</td>\n",
       "      <td>ரஹானே மட்டும் ஆறுதலாக முப்பத்தி ஆறு ரன்கள் குவ...</td>\n",
       "      <td>taf_03219</td>\n",
       "      <td>female</td>\n",
       "    </tr>\n",
       "    <tr>\n",
       "      <th>4</th>\n",
       "      <td>taf_00008_01305524612</td>\n",
       "      <td>மனோரமாவிற்கு பூபதி என்ற மகன் உள்ளார்</td>\n",
       "      <td>taf_00008</td>\n",
       "      <td>female</td>\n",
       "    </tr>\n",
       "  </tbody>\n",
       "</table>\n",
       "</div>"
      ],
      "text/plain": [
       "                      id                                               text  \\\n",
       "0  taf_02345_00348037167  ஆஸ்த்ரேலியப் பெண்ணுக்கு முப்பத்தி மூன்று ஆண்டு...   \n",
       "1  taf_07049_00155837462            ஸ்ரீரங்கம் கோவிலில் வெடிகுண்டு மிரட்டல்   \n",
       "2  taf_09705_01218130267  உங்களுடைய உணவுக் கட்டுப்பாட்டைச் சொன்னால் மற்ற...   \n",
       "3  taf_03219_00712757493  ரஹானே மட்டும் ஆறுதலாக முப்பத்தி ஆறு ரன்கள் குவ...   \n",
       "4  taf_00008_01305524612               மனோரமாவிற்கு பூபதி என்ற மகன் உள்ளார்   \n",
       "\n",
       "     speaker  gender  \n",
       "0  taf_02345  female  \n",
       "1  taf_07049  female  \n",
       "2  taf_09705  female  \n",
       "3  taf_03219  female  \n",
       "4  taf_00008  female  "
      ]
     },
     "execution_count": 11,
     "metadata": {},
     "output_type": "execute_result"
    }
   ],
   "source": [
    "metadata_female_fp = f\"{data_dir}/female/line_index.tsv\"\n",
    "metadata_female = pd.read_csv(metadata_female_fp, sep='\\t', header=None, names=['id', 'text'])\n",
    "metadata_female['speaker'] = metadata_female['id'].str.rsplit('_', 1).str[0]\n",
    "metadata_female['gender'] = 'female'\n",
    "print(metadata_female.shape)\n",
    "metadata_female.head()"
   ]
  },
  {
   "cell_type": "code",
   "execution_count": 12,
   "metadata": {},
   "outputs": [
    {
     "data": {
      "text/html": [
       "<div>\n",
       "<style scoped>\n",
       "    .dataframe tbody tr th:only-of-type {\n",
       "        vertical-align: middle;\n",
       "    }\n",
       "\n",
       "    .dataframe tbody tr th {\n",
       "        vertical-align: top;\n",
       "    }\n",
       "\n",
       "    .dataframe thead th {\n",
       "        text-align: right;\n",
       "    }\n",
       "</style>\n",
       "<table border=\"1\" class=\"dataframe\">\n",
       "  <thead>\n",
       "    <tr style=\"text-align: right;\">\n",
       "      <th></th>\n",
       "      <th>id</th>\n",
       "      <th>text</th>\n",
       "      <th>speaker</th>\n",
       "      <th>gender</th>\n",
       "    </tr>\n",
       "  </thead>\n",
       "  <tbody>\n",
       "    <tr>\n",
       "      <th>0</th>\n",
       "      <td>tag_09162_01279273055</td>\n",
       "      <td>அவர்களின் படங்களின் டீஸருக்கு கிடைக்கும் வரவேற...</td>\n",
       "      <td>tag_09162</td>\n",
       "      <td>male</td>\n",
       "    </tr>\n",
       "    <tr>\n",
       "      <th>1</th>\n",
       "      <td>tag_01515_01483902699</td>\n",
       "      <td>பாம்பன் ரயில் பாலத்துக்கு வெடிகுண்டு மிரட்டல்</td>\n",
       "      <td>tag_01515</td>\n",
       "      <td>male</td>\n",
       "    </tr>\n",
       "    <tr>\n",
       "      <th>2</th>\n",
       "      <td>tag_03777_01709938953</td>\n",
       "      <td>ஜமேக்கா வன்முறைகளில் முப்பது பேர் உயிரிழப்பு</td>\n",
       "      <td>tag_03777</td>\n",
       "      <td>male</td>\n",
       "    </tr>\n",
       "    <tr>\n",
       "      <th>3</th>\n",
       "      <td>tag_01181_00836855113</td>\n",
       "      <td>கிழக்குப் பல்கலைக்கழத்தில் போருக்குப் பின் அறி...</td>\n",
       "      <td>tag_01181</td>\n",
       "      <td>male</td>\n",
       "    </tr>\n",
       "    <tr>\n",
       "      <th>4</th>\n",
       "      <td>tag_03191_01070187495</td>\n",
       "      <td>நான் நடிகை என்பதற்காக இருவத்தி நான்கு மணி நேரம...</td>\n",
       "      <td>tag_03191</td>\n",
       "      <td>male</td>\n",
       "    </tr>\n",
       "    <tr>\n",
       "      <th>...</th>\n",
       "      <td>...</td>\n",
       "      <td>...</td>\n",
       "      <td>...</td>\n",
       "      <td>...</td>\n",
       "    </tr>\n",
       "    <tr>\n",
       "      <th>4286</th>\n",
       "      <td>taf_07910_01765928277</td>\n",
       "      <td>அட்லாண்டிஸ் விண்ணோடம் தனது கடைசிப் பயணத்தை ஆரம...</td>\n",
       "      <td>taf_07910</td>\n",
       "      <td>female</td>\n",
       "    </tr>\n",
       "    <tr>\n",
       "      <th>4287</th>\n",
       "      <td>taf_07352_02032741859</td>\n",
       "      <td>ஜூன் ஐந்து சுகாதார தினம்</td>\n",
       "      <td>taf_07352</td>\n",
       "      <td>female</td>\n",
       "    </tr>\n",
       "    <tr>\n",
       "      <th>4288</th>\n",
       "      <td>taf_08213_00525564801</td>\n",
       "      <td>நாடாளுமன்றக் கூட்டுக்குழு அமைக்கப்படும்</td>\n",
       "      <td>taf_08213</td>\n",
       "      <td>female</td>\n",
       "    </tr>\n",
       "    <tr>\n",
       "      <th>4289</th>\n",
       "      <td>taf_05572_02054420639</td>\n",
       "      <td>இரண்டாயிரத்து இரண்டு வன்முறை தொடர்பான ஆவணங்களை...</td>\n",
       "      <td>taf_05572</td>\n",
       "      <td>female</td>\n",
       "    </tr>\n",
       "    <tr>\n",
       "      <th>4290</th>\n",
       "      <td>taf_08213_01951170984</td>\n",
       "      <td>திருமணத்திற்கு முதலில் நட்சத்திரப் பொருத்தம் ப...</td>\n",
       "      <td>taf_08213</td>\n",
       "      <td>female</td>\n",
       "    </tr>\n",
       "  </tbody>\n",
       "</table>\n",
       "<p>4291 rows × 4 columns</p>\n",
       "</div>"
      ],
      "text/plain": [
       "                         id  \\\n",
       "0     tag_09162_01279273055   \n",
       "1     tag_01515_01483902699   \n",
       "2     tag_03777_01709938953   \n",
       "3     tag_01181_00836855113   \n",
       "4     tag_03191_01070187495   \n",
       "...                     ...   \n",
       "4286  taf_07910_01765928277   \n",
       "4287  taf_07352_02032741859   \n",
       "4288  taf_08213_00525564801   \n",
       "4289  taf_05572_02054420639   \n",
       "4290  taf_08213_01951170984   \n",
       "\n",
       "                                                   text    speaker  gender  \n",
       "0     அவர்களின் படங்களின் டீஸருக்கு கிடைக்கும் வரவேற...  tag_09162    male  \n",
       "1         பாம்பன் ரயில் பாலத்துக்கு வெடிகுண்டு மிரட்டல்  tag_01515    male  \n",
       "2          ஜமேக்கா வன்முறைகளில் முப்பது பேர் உயிரிழப்பு  tag_03777    male  \n",
       "3     கிழக்குப் பல்கலைக்கழத்தில் போருக்குப் பின் அறி...  tag_01181    male  \n",
       "4     நான் நடிகை என்பதற்காக இருவத்தி நான்கு மணி நேரம...  tag_03191    male  \n",
       "...                                                 ...        ...     ...  \n",
       "4286  அட்லாண்டிஸ் விண்ணோடம் தனது கடைசிப் பயணத்தை ஆரம...  taf_07910  female  \n",
       "4287                           ஜூன் ஐந்து சுகாதார தினம்  taf_07352  female  \n",
       "4288            நாடாளுமன்றக் கூட்டுக்குழு அமைக்கப்படும்  taf_08213  female  \n",
       "4289  இரண்டாயிரத்து இரண்டு வன்முறை தொடர்பான ஆவணங்களை...  taf_05572  female  \n",
       "4290  திருமணத்திற்கு முதலில் நட்சத்திரப் பொருத்தம் ப...  taf_08213  female  \n",
       "\n",
       "[4291 rows x 4 columns]"
      ]
     },
     "execution_count": 12,
     "metadata": {},
     "output_type": "execute_result"
    }
   ],
   "source": [
    "metadata = pd.concat([metadata_male, metadata_female]).reset_index(drop=True)\n",
    "metadata"
   ]
  },
  {
   "cell_type": "code",
   "execution_count": 13,
   "metadata": {},
   "outputs": [],
   "source": [
    "metadata.to_csv(f'{data_dir_new}/metadata.csv', sep='|', index=False, header=False)"
   ]
  },
  {
   "cell_type": "markdown",
   "metadata": {},
   "source": [
    "# Resampling"
   ]
  },
  {
   "cell_type": "code",
   "execution_count": 15,
   "metadata": {},
   "outputs": [],
   "source": [
    "if not os.path.exists(f'{data_dir_new}/wavs-20k'):\n",
    "    os.makedirs(f'{data_dir_new}/wavs-20k')"
   ]
  },
  {
   "cell_type": "code",
   "execution_count": 23,
   "metadata": {},
   "outputs": [],
   "source": [
    "def resample_file(func_args):\n",
    "    fp_src, fp_dst, output_sr = func_args\n",
    "    y, sr = librosa.load(fp_src, sr=output_sr)\n",
    "    sf.write(fp_dst, y, sr)"
   ]
  },
  {
   "cell_type": "code",
   "execution_count": 21,
   "metadata": {},
   "outputs": [
    {
     "data": {
      "application/vnd.jupyter.widget-view+json": {
       "model_id": "0bf1218a8209461c8f5ebf214e0f3252",
       "version_major": 2,
       "version_minor": 0
      },
      "text/plain": [
       "  0%|          | 0/4291 [00:00<?, ?it/s]"
      ]
     },
     "metadata": {},
     "output_type": "display_data"
    },
    {
     "data": {
      "application/vnd.jupyter.widget-view+json": {
       "model_id": "c1f298e8a17d49f1a70e2523569ef542",
       "version_major": 2,
       "version_minor": 0
      },
      "text/plain": [
       "  0%|          | 0/4291 [00:00<?, ?it/s]"
      ]
     },
     "metadata": {},
     "output_type": "display_data"
    }
   ],
   "source": [
    "fps_src = [f'{data_dir_new}/wavs/{fn}' for fn in tqdm(os.listdir(f'{data_dir_new}/wavs'))]\n",
    "fps_dst = [f'{data_dir_new}/wavs-20k/{fn}' for fn in tqdm(os.listdir(f'{data_dir_new}/wavs'))]\n",
    "srs = [22050] * len(fps_src)"
   ]
  },
  {
   "cell_type": "code",
   "execution_count": 24,
   "metadata": {},
   "outputs": [
    {
     "data": {
      "application/vnd.jupyter.widget-view+json": {
       "model_id": "8068e9ad1dfb4ac3b86ebbcc8a081727",
       "version_major": 2,
       "version_minor": 0
      },
      "text/plain": [
       "  0%|          | 0/4291 [00:00<?, ?it/s]"
      ]
     },
     "metadata": {},
     "output_type": "display_data"
    }
   ],
   "source": [
    "audio_files = list(zip(fps_src, fps_dst, srs))\n",
    "with Pool(processes=16) as p:\n",
    "    with tqdm(total=len(fps_src)) as pbar:\n",
    "        for i, _ in enumerate(p.imap_unordered(resample_file, audio_files)):\n",
    "            pbar.update()"
   ]
  },
  {
   "cell_type": "code",
   "execution_count": null,
   "metadata": {},
   "outputs": [],
   "source": [
    "# audio_files = list(zip(fps_src, fps_dst, srs))\n",
    "# for audio_file in tqdm(audio_files):\n",
    "#     resample_file(audio_file)"
   ]
  },
  {
   "cell_type": "markdown",
   "metadata": {},
   "source": [
    "# Filter data"
   ]
  },
  {
   "cell_type": "code",
   "execution_count": 55,
   "metadata": {},
   "outputs": [
    {
     "data": {
      "text/html": [
       "<div>\n",
       "<style scoped>\n",
       "    .dataframe tbody tr th:only-of-type {\n",
       "        vertical-align: middle;\n",
       "    }\n",
       "\n",
       "    .dataframe tbody tr th {\n",
       "        vertical-align: top;\n",
       "    }\n",
       "\n",
       "    .dataframe thead th {\n",
       "        text-align: right;\n",
       "    }\n",
       "</style>\n",
       "<table border=\"1\" class=\"dataframe\">\n",
       "  <thead>\n",
       "    <tr style=\"text-align: right;\">\n",
       "      <th></th>\n",
       "      <th>id</th>\n",
       "      <th>text</th>\n",
       "      <th>speaker</th>\n",
       "      <th>gender</th>\n",
       "    </tr>\n",
       "  </thead>\n",
       "  <tbody>\n",
       "    <tr>\n",
       "      <th>0</th>\n",
       "      <td>tag_09162_01279273055</td>\n",
       "      <td>அவர்களின் படங்களின் டீஸருக்கு கிடைக்கும் வரவேற...</td>\n",
       "      <td>tag_09162</td>\n",
       "      <td>male</td>\n",
       "    </tr>\n",
       "    <tr>\n",
       "      <th>1</th>\n",
       "      <td>tag_01515_01483902699</td>\n",
       "      <td>பாம்பன் ரயில் பாலத்துக்கு வெடிகுண்டு மிரட்டல்</td>\n",
       "      <td>tag_01515</td>\n",
       "      <td>male</td>\n",
       "    </tr>\n",
       "    <tr>\n",
       "      <th>2</th>\n",
       "      <td>tag_03777_01709938953</td>\n",
       "      <td>ஜமேக்கா வன்முறைகளில் முப்பது பேர் உயிரிழப்பு</td>\n",
       "      <td>tag_03777</td>\n",
       "      <td>male</td>\n",
       "    </tr>\n",
       "    <tr>\n",
       "      <th>3</th>\n",
       "      <td>tag_01181_00836855113</td>\n",
       "      <td>கிழக்குப் பல்கலைக்கழத்தில் போருக்குப் பின் அறி...</td>\n",
       "      <td>tag_01181</td>\n",
       "      <td>male</td>\n",
       "    </tr>\n",
       "    <tr>\n",
       "      <th>4</th>\n",
       "      <td>tag_03191_01070187495</td>\n",
       "      <td>நான் நடிகை என்பதற்காக இருவத்தி நான்கு மணி நேரம...</td>\n",
       "      <td>tag_03191</td>\n",
       "      <td>male</td>\n",
       "    </tr>\n",
       "  </tbody>\n",
       "</table>\n",
       "</div>"
      ],
      "text/plain": [
       "                      id                                               text  \\\n",
       "0  tag_09162_01279273055  அவர்களின் படங்களின் டீஸருக்கு கிடைக்கும் வரவேற...   \n",
       "1  tag_01515_01483902699      பாம்பன் ரயில் பாலத்துக்கு வெடிகுண்டு மிரட்டல்   \n",
       "2  tag_03777_01709938953       ஜமேக்கா வன்முறைகளில் முப்பது பேர் உயிரிழப்பு   \n",
       "3  tag_01181_00836855113  கிழக்குப் பல்கலைக்கழத்தில் போருக்குப் பின் அறி...   \n",
       "4  tag_03191_01070187495  நான் நடிகை என்பதற்காக இருவத்தி நான்கு மணி நேரம...   \n",
       "\n",
       "     speaker gender  \n",
       "0  tag_09162   male  \n",
       "1  tag_01515   male  \n",
       "2  tag_03777   male  \n",
       "3  tag_01181   male  \n",
       "4  tag_03191   male  "
      ]
     },
     "execution_count": 55,
     "metadata": {},
     "output_type": "execute_result"
    }
   ],
   "source": [
    "metadata = pd.read_csv(f'{data_dir_new}/metadata.csv', sep='|', names=['id', 'text', 'speaker', 'gender'])\n",
    "metadata.head()"
   ]
  },
  {
   "cell_type": "code",
   "execution_count": 56,
   "metadata": {},
   "outputs": [
    {
     "name": "stdout",
     "output_type": "stream",
     "text": [
      "4291\n",
      "4284\n"
     ]
    },
    {
     "data": {
      "text/html": [
       "<div>\n",
       "<style scoped>\n",
       "    .dataframe tbody tr th:only-of-type {\n",
       "        vertical-align: middle;\n",
       "    }\n",
       "\n",
       "    .dataframe tbody tr th {\n",
       "        vertical-align: top;\n",
       "    }\n",
       "\n",
       "    .dataframe thead th {\n",
       "        text-align: right;\n",
       "    }\n",
       "</style>\n",
       "<table border=\"1\" class=\"dataframe\">\n",
       "  <thead>\n",
       "    <tr style=\"text-align: right;\">\n",
       "      <th></th>\n",
       "      <th>id</th>\n",
       "      <th>text</th>\n",
       "      <th>speaker</th>\n",
       "      <th>gender</th>\n",
       "      <th>text_length</th>\n",
       "    </tr>\n",
       "  </thead>\n",
       "  <tbody>\n",
       "    <tr>\n",
       "      <th>0</th>\n",
       "      <td>tag_09162_01279273055</td>\n",
       "      <td>அவர்களின் படங்களின் டீஸருக்கு கிடைக்கும் வரவேற...</td>\n",
       "      <td>tag_09162</td>\n",
       "      <td>male</td>\n",
       "      <td>66</td>\n",
       "    </tr>\n",
       "    <tr>\n",
       "      <th>1</th>\n",
       "      <td>tag_01515_01483902699</td>\n",
       "      <td>பாம்பன் ரயில் பாலத்துக்கு வெடிகுண்டு மிரட்டல்</td>\n",
       "      <td>tag_01515</td>\n",
       "      <td>male</td>\n",
       "      <td>45</td>\n",
       "    </tr>\n",
       "    <tr>\n",
       "      <th>2</th>\n",
       "      <td>tag_03777_01709938953</td>\n",
       "      <td>ஜமேக்கா வன்முறைகளில் முப்பது பேர் உயிரிழப்பு</td>\n",
       "      <td>tag_03777</td>\n",
       "      <td>male</td>\n",
       "      <td>44</td>\n",
       "    </tr>\n",
       "    <tr>\n",
       "      <th>3</th>\n",
       "      <td>tag_01181_00836855113</td>\n",
       "      <td>கிழக்குப் பல்கலைக்கழத்தில் போருக்குப் பின் அறி...</td>\n",
       "      <td>tag_01181</td>\n",
       "      <td>male</td>\n",
       "      <td>86</td>\n",
       "    </tr>\n",
       "    <tr>\n",
       "      <th>4</th>\n",
       "      <td>tag_03191_01070187495</td>\n",
       "      <td>நான் நடிகை என்பதற்காக இருவத்தி நான்கு மணி நேரம...</td>\n",
       "      <td>tag_03191</td>\n",
       "      <td>male</td>\n",
       "      <td>80</td>\n",
       "    </tr>\n",
       "  </tbody>\n",
       "</table>\n",
       "</div>"
      ],
      "text/plain": [
       "                      id                                               text  \\\n",
       "0  tag_09162_01279273055  அவர்களின் படங்களின் டீஸருக்கு கிடைக்கும் வரவேற...   \n",
       "1  tag_01515_01483902699      பாம்பன் ரயில் பாலத்துக்கு வெடிகுண்டு மிரட்டல்   \n",
       "2  tag_03777_01709938953       ஜமேக்கா வன்முறைகளில் முப்பது பேர் உயிரிழப்பு   \n",
       "3  tag_01181_00836855113  கிழக்குப் பல்கலைக்கழத்தில் போருக்குப் பின் அறி...   \n",
       "4  tag_03191_01070187495  நான் நடிகை என்பதற்காக இருவத்தி நான்கு மணி நேரம...   \n",
       "\n",
       "     speaker gender  text_length  \n",
       "0  tag_09162   male           66  \n",
       "1  tag_01515   male           45  \n",
       "2  tag_03777   male           44  \n",
       "3  tag_01181   male           86  \n",
       "4  tag_03191   male           80  "
      ]
     },
     "execution_count": 56,
     "metadata": {},
     "output_type": "execute_result"
    }
   ],
   "source": [
    "metadata['text_length'] = metadata['text'].str.len()\n",
    "print(len(metadata))\n",
    "metadata = metadata[~metadata['text_length'].isna()]\n",
    "metadata['text_length'] = metadata['text_length'].astype(int)\n",
    "print(len(metadata))\n",
    "metadata.head()"
   ]
  },
  {
   "cell_type": "code",
   "execution_count": 57,
   "metadata": {},
   "outputs": [],
   "source": [
    "def get_duration(id_):\n",
    "    fp = f'{data_dir_new}/wavs-20k/{id_}.wav'\n",
    "    y, sr = librosa.load(fp)\n",
    "    duration = librosa.get_duration(y=y, sr=sr)\n",
    "    return duration"
   ]
  },
  {
   "cell_type": "code",
   "execution_count": 58,
   "metadata": {},
   "outputs": [
    {
     "data": {
      "application/vnd.jupyter.widget-view+json": {
       "model_id": "ae65ba74af3149918dac86f6b01f8e94",
       "version_major": 2,
       "version_minor": 0
      },
      "text/plain": [
       "  0%|          | 0/4284 [00:00<?, ?it/s]"
      ]
     },
     "metadata": {},
     "output_type": "display_data"
    },
    {
     "name": "stdout",
     "output_type": "stream",
     "text": [
      "4284\n",
      "4284\n"
     ]
    },
    {
     "data": {
      "text/html": [
       "<div>\n",
       "<style scoped>\n",
       "    .dataframe tbody tr th:only-of-type {\n",
       "        vertical-align: middle;\n",
       "    }\n",
       "\n",
       "    .dataframe tbody tr th {\n",
       "        vertical-align: top;\n",
       "    }\n",
       "\n",
       "    .dataframe thead th {\n",
       "        text-align: right;\n",
       "    }\n",
       "</style>\n",
       "<table border=\"1\" class=\"dataframe\">\n",
       "  <thead>\n",
       "    <tr style=\"text-align: right;\">\n",
       "      <th></th>\n",
       "      <th>id</th>\n",
       "      <th>text</th>\n",
       "      <th>speaker</th>\n",
       "      <th>gender</th>\n",
       "      <th>text_length</th>\n",
       "      <th>audio_duration</th>\n",
       "    </tr>\n",
       "  </thead>\n",
       "  <tbody>\n",
       "    <tr>\n",
       "      <th>0</th>\n",
       "      <td>tag_09162_01279273055</td>\n",
       "      <td>அவர்களின் படங்களின் டீஸருக்கு கிடைக்கும் வரவேற...</td>\n",
       "      <td>tag_09162</td>\n",
       "      <td>male</td>\n",
       "      <td>66</td>\n",
       "      <td>5.120000</td>\n",
       "    </tr>\n",
       "    <tr>\n",
       "      <th>1</th>\n",
       "      <td>tag_01515_01483902699</td>\n",
       "      <td>பாம்பன் ரயில் பாலத்துக்கு வெடிகுண்டு மிரட்டல்</td>\n",
       "      <td>tag_01515</td>\n",
       "      <td>male</td>\n",
       "      <td>45</td>\n",
       "      <td>4.096009</td>\n",
       "    </tr>\n",
       "    <tr>\n",
       "      <th>2</th>\n",
       "      <td>tag_03777_01709938953</td>\n",
       "      <td>ஜமேக்கா வன்முறைகளில் முப்பது பேர் உயிரிழப்பு</td>\n",
       "      <td>tag_03777</td>\n",
       "      <td>male</td>\n",
       "      <td>44</td>\n",
       "      <td>4.693333</td>\n",
       "    </tr>\n",
       "    <tr>\n",
       "      <th>3</th>\n",
       "      <td>tag_01181_00836855113</td>\n",
       "      <td>கிழக்குப் பல்கலைக்கழத்தில் போருக்குப் பின் அறி...</td>\n",
       "      <td>tag_01181</td>\n",
       "      <td>male</td>\n",
       "      <td>86</td>\n",
       "      <td>8.960000</td>\n",
       "    </tr>\n",
       "    <tr>\n",
       "      <th>4</th>\n",
       "      <td>tag_03191_01070187495</td>\n",
       "      <td>நான் நடிகை என்பதற்காக இருவத்தி நான்கு மணி நேரம...</td>\n",
       "      <td>tag_03191</td>\n",
       "      <td>male</td>\n",
       "      <td>80</td>\n",
       "      <td>5.973333</td>\n",
       "    </tr>\n",
       "  </tbody>\n",
       "</table>\n",
       "</div>"
      ],
      "text/plain": [
       "                      id                                               text  \\\n",
       "0  tag_09162_01279273055  அவர்களின் படங்களின் டீஸருக்கு கிடைக்கும் வரவேற...   \n",
       "1  tag_01515_01483902699      பாம்பன் ரயில் பாலத்துக்கு வெடிகுண்டு மிரட்டல்   \n",
       "2  tag_03777_01709938953       ஜமேக்கா வன்முறைகளில் முப்பது பேர் உயிரிழப்பு   \n",
       "3  tag_01181_00836855113  கிழக்குப் பல்கலைக்கழத்தில் போருக்குப் பின் அறி...   \n",
       "4  tag_03191_01070187495  நான் நடிகை என்பதற்காக இருவத்தி நான்கு மணி நேரம...   \n",
       "\n",
       "     speaker gender  text_length  audio_duration  \n",
       "0  tag_09162   male           66        5.120000  \n",
       "1  tag_01515   male           45        4.096009  \n",
       "2  tag_03777   male           44        4.693333  \n",
       "3  tag_01181   male           86        8.960000  \n",
       "4  tag_03191   male           80        5.973333  "
      ]
     },
     "execution_count": 58,
     "metadata": {},
     "output_type": "execute_result"
    }
   ],
   "source": [
    "metadata['audio_duration'] = metadata['id'].progress_apply(get_duration)\n",
    "print(len(metadata))\n",
    "metadata = metadata[metadata['audio_duration']>0]\n",
    "print(len(metadata))\n",
    "metadata.head()"
   ]
  },
  {
   "cell_type": "code",
   "execution_count": 62,
   "metadata": {},
   "outputs": [
    {
     "data": {
      "text/plain": [
       "7.069106160241875"
      ]
     },
     "execution_count": 62,
     "metadata": {},
     "output_type": "execute_result"
    }
   ],
   "source": [
    "metadata['audio_duration'].sum()/(60*60)"
   ]
  },
  {
   "cell_type": "code",
   "execution_count": 59,
   "metadata": {},
   "outputs": [
    {
     "data": {
      "text/html": [
       "<div>\n",
       "<style scoped>\n",
       "    .dataframe tbody tr th:only-of-type {\n",
       "        vertical-align: middle;\n",
       "    }\n",
       "\n",
       "    .dataframe tbody tr th {\n",
       "        vertical-align: top;\n",
       "    }\n",
       "\n",
       "    .dataframe thead th {\n",
       "        text-align: right;\n",
       "    }\n",
       "</style>\n",
       "<table border=\"1\" class=\"dataframe\">\n",
       "  <thead>\n",
       "    <tr style=\"text-align: right;\">\n",
       "      <th></th>\n",
       "      <th>text_length</th>\n",
       "      <th>audio_duration</th>\n",
       "    </tr>\n",
       "  </thead>\n",
       "  <tbody>\n",
       "    <tr>\n",
       "      <th>count</th>\n",
       "      <td>4284.000000</td>\n",
       "      <td>4284.000000</td>\n",
       "    </tr>\n",
       "    <tr>\n",
       "      <th>mean</th>\n",
       "      <td>60.683707</td>\n",
       "      <td>5.940425</td>\n",
       "    </tr>\n",
       "    <tr>\n",
       "      <th>std</th>\n",
       "      <td>23.679106</td>\n",
       "      <td>1.886870</td>\n",
       "    </tr>\n",
       "    <tr>\n",
       "      <th>min</th>\n",
       "      <td>7.000000</td>\n",
       "      <td>1.706667</td>\n",
       "    </tr>\n",
       "    <tr>\n",
       "      <th>25%</th>\n",
       "      <td>44.000000</td>\n",
       "      <td>4.608027</td>\n",
       "    </tr>\n",
       "    <tr>\n",
       "      <th>50%</th>\n",
       "      <td>59.000000</td>\n",
       "      <td>5.717370</td>\n",
       "    </tr>\n",
       "    <tr>\n",
       "      <th>75%</th>\n",
       "      <td>76.000000</td>\n",
       "      <td>7.082676</td>\n",
       "    </tr>\n",
       "    <tr>\n",
       "      <th>max</th>\n",
       "      <td>160.000000</td>\n",
       "      <td>17.152018</td>\n",
       "    </tr>\n",
       "  </tbody>\n",
       "</table>\n",
       "</div>"
      ],
      "text/plain": [
       "       text_length  audio_duration\n",
       "count  4284.000000     4284.000000\n",
       "mean     60.683707        5.940425\n",
       "std      23.679106        1.886870\n",
       "min       7.000000        1.706667\n",
       "25%      44.000000        4.608027\n",
       "50%      59.000000        5.717370\n",
       "75%      76.000000        7.082676\n",
       "max     160.000000       17.152018"
      ]
     },
     "execution_count": 59,
     "metadata": {},
     "output_type": "execute_result"
    }
   ],
   "source": [
    "metadata.describe()"
   ]
  },
  {
   "cell_type": "code",
   "execution_count": 63,
   "metadata": {},
   "outputs": [],
   "source": [
    "metadata.to_csv(f'{data_dir_new}/metadata.csv', sep='|', index=False, header=False)"
   ]
  },
  {
   "cell_type": "markdown",
   "metadata": {},
   "source": [
    "# Make train-test splits"
   ]
  },
  {
   "cell_type": "code",
   "execution_count": 64,
   "metadata": {},
   "outputs": [
    {
     "name": "stdout",
     "output_type": "stream",
     "text": [
      "(4284, 6)\n"
     ]
    },
    {
     "data": {
      "text/html": [
       "<div>\n",
       "<style scoped>\n",
       "    .dataframe tbody tr th:only-of-type {\n",
       "        vertical-align: middle;\n",
       "    }\n",
       "\n",
       "    .dataframe tbody tr th {\n",
       "        vertical-align: top;\n",
       "    }\n",
       "\n",
       "    .dataframe thead th {\n",
       "        text-align: right;\n",
       "    }\n",
       "</style>\n",
       "<table border=\"1\" class=\"dataframe\">\n",
       "  <thead>\n",
       "    <tr style=\"text-align: right;\">\n",
       "      <th></th>\n",
       "      <th>id</th>\n",
       "      <th>text</th>\n",
       "      <th>speaker</th>\n",
       "      <th>gender</th>\n",
       "      <th>text_length</th>\n",
       "      <th>audio_duration</th>\n",
       "    </tr>\n",
       "  </thead>\n",
       "  <tbody>\n",
       "    <tr>\n",
       "      <th>0</th>\n",
       "      <td>tag_09162_01279273055</td>\n",
       "      <td>அவர்களின் படங்களின் டீஸருக்கு கிடைக்கும் வரவேற...</td>\n",
       "      <td>tag_09162</td>\n",
       "      <td>male</td>\n",
       "      <td>66</td>\n",
       "      <td>5.120000</td>\n",
       "    </tr>\n",
       "    <tr>\n",
       "      <th>1</th>\n",
       "      <td>tag_01515_01483902699</td>\n",
       "      <td>பாம்பன் ரயில் பாலத்துக்கு வெடிகுண்டு மிரட்டல்</td>\n",
       "      <td>tag_01515</td>\n",
       "      <td>male</td>\n",
       "      <td>45</td>\n",
       "      <td>4.096009</td>\n",
       "    </tr>\n",
       "    <tr>\n",
       "      <th>2</th>\n",
       "      <td>tag_03777_01709938953</td>\n",
       "      <td>ஜமேக்கா வன்முறைகளில் முப்பது பேர் உயிரிழப்பு</td>\n",
       "      <td>tag_03777</td>\n",
       "      <td>male</td>\n",
       "      <td>44</td>\n",
       "      <td>4.693333</td>\n",
       "    </tr>\n",
       "    <tr>\n",
       "      <th>3</th>\n",
       "      <td>tag_01181_00836855113</td>\n",
       "      <td>கிழக்குப் பல்கலைக்கழத்தில் போருக்குப் பின் அறி...</td>\n",
       "      <td>tag_01181</td>\n",
       "      <td>male</td>\n",
       "      <td>86</td>\n",
       "      <td>8.960000</td>\n",
       "    </tr>\n",
       "    <tr>\n",
       "      <th>4</th>\n",
       "      <td>tag_03191_01070187495</td>\n",
       "      <td>நான் நடிகை என்பதற்காக இருவத்தி நான்கு மணி நேரம...</td>\n",
       "      <td>tag_03191</td>\n",
       "      <td>male</td>\n",
       "      <td>80</td>\n",
       "      <td>5.973333</td>\n",
       "    </tr>\n",
       "  </tbody>\n",
       "</table>\n",
       "</div>"
      ],
      "text/plain": [
       "                      id                                               text  \\\n",
       "0  tag_09162_01279273055  அவர்களின் படங்களின் டீஸருக்கு கிடைக்கும் வரவேற...   \n",
       "1  tag_01515_01483902699      பாம்பன் ரயில் பாலத்துக்கு வெடிகுண்டு மிரட்டல்   \n",
       "2  tag_03777_01709938953       ஜமேக்கா வன்முறைகளில் முப்பது பேர் உயிரிழப்பு   \n",
       "3  tag_01181_00836855113  கிழக்குப் பல்கலைக்கழத்தில் போருக்குப் பின் அறி...   \n",
       "4  tag_03191_01070187495  நான் நடிகை என்பதற்காக இருவத்தி நான்கு மணி நேரம...   \n",
       "\n",
       "     speaker gender  text_length  audio_duration  \n",
       "0  tag_09162   male           66        5.120000  \n",
       "1  tag_01515   male           45        4.096009  \n",
       "2  tag_03777   male           44        4.693333  \n",
       "3  tag_01181   male           86        8.960000  \n",
       "4  tag_03191   male           80        5.973333  "
      ]
     },
     "execution_count": 64,
     "metadata": {},
     "output_type": "execute_result"
    }
   ],
   "source": [
    "df = pd.read_csv(f'{data_dir_new}/metadata.csv', sep='|', names=['id', 'text', 'speaker', 'gender', 'text_length', 'audio_duration'])\n",
    "print(df.shape)\n",
    "df.head()"
   ]
  },
  {
   "cell_type": "code",
   "execution_count": 65,
   "metadata": {},
   "outputs": [
    {
     "name": "stdout",
     "output_type": "stream",
     "text": [
      "4184 100\n"
     ]
    }
   ],
   "source": [
    "df_train, df_test = train_test_split(df, test_size=100, stratify=df['speaker'], random_state=0)\n",
    "print(len(df_train), len(df_test))"
   ]
  },
  {
   "cell_type": "code",
   "execution_count": 66,
   "metadata": {},
   "outputs": [],
   "source": [
    "df_train.to_csv(f'{data_dir_new}/metadata_train.csv', sep='|', index=False, header=False)\n",
    "df_test.to_csv(f'{data_dir_new}/metadata_test.csv', sep='|', index=False, header=False)"
   ]
  },
  {
   "cell_type": "markdown",
   "metadata": {},
   "source": []
  }
 ],
 "metadata": {
  "kernelspec": {
   "display_name": "tts-env1",
   "language": "python",
   "name": "tts-env1"
  },
  "language_info": {
   "codemirror_mode": {
    "name": "ipython",
    "version": 3
   },
   "file_extension": ".py",
   "mimetype": "text/x-python",
   "name": "python",
   "nbconvert_exporter": "python",
   "pygments_lexer": "ipython3",
   "version": "3.10.4"
  },
  "orig_nbformat": 4
 },
 "nbformat": 4,
 "nbformat_minor": 2
}
